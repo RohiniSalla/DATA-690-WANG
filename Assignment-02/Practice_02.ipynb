{
  "nbformat": 4,
  "nbformat_minor": 0,
  "metadata": {
    "colab": {
      "name": "Practice-02.ipynb",
      "provenance": [],
      "collapsed_sections": []
    },
    "kernelspec": {
      "name": "python3",
      "display_name": "Python 3"
    }
  },
  "cells": [
    {
      "cell_type": "markdown",
      "metadata": {
        "id": "1U0L8AmH3aWN"
      },
      "source": [
        "# Assignment 2\r\n",
        "### Date: 02/04/2021"
      ]
    },
    {
      "cell_type": "code",
      "metadata": {
        "colab": {
          "base_uri": "https://localhost:8080/"
        },
        "id": "Vg7xSsdHyGmn",
        "outputId": "4634b681-498c-4ddf-b194-d1f28dcf3b57"
      },
      "source": [
        "lst = []#Empty list to append values\r\n",
        "for i in range(10):#Iterating 10 times to allow users to enter integers\r\n",
        "    while True:\r\n",
        "        #Exception handling for restricting users to enter only integers\r\n",
        "        try:\r\n",
        "            #int() is type casting and input() allows users to take input values\r\n",
        "            var = int(input(\"Please enter the integer {}: \".format(i+1)))\r\n",
        "            break\r\n",
        "        except:\r\n",
        "            print(\"Please enter a valid integer\")\r\n",
        "    # appending each entered integer to the list: lst\r\n",
        "    lst.append(var)"
      ],
      "execution_count": 23,
      "outputs": [
        {
          "output_type": "stream",
          "text": [
            "Please enter the integer 1: 1\n",
            "Please enter the integer 2: 556\n",
            "Please enter the integer 3: S\n",
            "Please enter a valid integer\n",
            "Please enter the integer 3: kk\n",
            "Please enter a valid integer\n",
            "Please enter the integer 3: 454\n",
            "Please enter the integer 4: 287525\n",
            "Please enter the integer 5: 92\n",
            "Please enter the integer 6: 02\n",
            "Please enter the integer 7: 93\n",
            "Please enter the integer 8: 93\n",
            "Please enter the integer 9: 85\n",
            "Please enter the integer 10: 3\n"
          ],
          "name": "stdout"
        }
      ]
    },
    {
      "cell_type": "markdown",
      "metadata": {
        "id": "LP_gWniFzYmC"
      },
      "source": [
        "## Printing the list of entered integers"
      ]
    },
    {
      "cell_type": "code",
      "metadata": {
        "colab": {
          "base_uri": "https://localhost:8080/"
        },
        "id": "aTmBWwFLyzov",
        "outputId": "859067de-36d1-4436-ba9f-dfa496984b29"
      },
      "source": [
        "print(\"The entered integer values are: \", lst)"
      ],
      "execution_count": 24,
      "outputs": [
        {
          "output_type": "stream",
          "text": [
            "The entered integer values are:  [1, 556, 454, 287525, 92, 2, 93, 93, 85, 3]\n"
          ],
          "name": "stdout"
        }
      ]
    },
    {
      "cell_type": "markdown",
      "metadata": {
        "id": "tnmk_yySzior"
      },
      "source": [
        "## Calculating Min, Max, Range, Variance, and Standard deviation"
      ]
    },
    {
      "cell_type": "code",
      "metadata": {
        "id": "dKS1UdY5zb5Q",
        "colab": {
          "base_uri": "https://localhost:8080/"
        },
        "outputId": "58cb0b1b-9202-4da6-dafe-1e5ba0cb0b11"
      },
      "source": [
        "# Minimum value is calculated using min() function\r\n",
        "min_integer = min(lst)\r\n",
        "print(\"The minimum integer entered is: \", min_integer)"
      ],
      "execution_count": 25,
      "outputs": [
        {
          "output_type": "stream",
          "text": [
            "The minimum integer entered is:  1\n"
          ],
          "name": "stdout"
        }
      ]
    },
    {
      "cell_type": "code",
      "metadata": {
        "id": "E-SUfJ7B0IkZ",
        "colab": {
          "base_uri": "https://localhost:8080/"
        },
        "outputId": "2c41e691-2640-4f92-8f7e-6e54ad09d80b"
      },
      "source": [
        "# Maximum value is calculated using max() function\r\n",
        "max_integer= max(lst)\r\n",
        "print(\"The maximum integer entered is: \", max_integer)"
      ],
      "execution_count": 26,
      "outputs": [
        {
          "output_type": "stream",
          "text": [
            "The maximum integer entered is:  287525\n"
          ],
          "name": "stdout"
        }
      ]
    },
    {
      "cell_type": "code",
      "metadata": {
        "colab": {
          "base_uri": "https://localhost:8080/"
        },
        "id": "weD6Vl0Y0MjZ",
        "outputId": "26d5a5e4-e2a4-49a0-bf09-ca9553c45530"
      },
      "source": [
        "mean = sum(lst) / len(lst) #Average of the integers is sum of integers/number of integers\r\n",
        "print(\"The mean value of the entered integers is:\", mean)"
      ],
      "execution_count": 27,
      "outputs": [
        {
          "output_type": "stream",
          "text": [
            "The mean value of the entered integers is: 28890.4\n"
          ],
          "name": "stdout"
        }
      ]
    },
    {
      "cell_type": "code",
      "metadata": {
        "id": "_aiu-ieR1otF",
        "colab": {
          "base_uri": "https://localhost:8080/"
        },
        "outputId": "69646dc8-6c84-498d-ae46-f1092db25697"
      },
      "source": [
        "# Range is calculated using min and max values from above\r\n",
        "Range = (min_integer,max_integer)\r\n",
        "print(\"The range of the list is:\", Range)"
      ],
      "execution_count": 28,
      "outputs": [
        {
          "output_type": "stream",
          "text": [
            "The range of the list is: (1, 287525)\n"
          ],
          "name": "stdout"
        }
      ]
    },
    {
      "cell_type": "code",
      "metadata": {
        "colab": {
          "base_uri": "https://localhost:8080/"
        },
        "id": "9Q3zn4S50X0g",
        "outputId": "47f3b2e6-604e-407a-837a-83d4c10a1cff"
      },
      "source": [
        "# Variance is calculated from below formula through list comprehension\r\n",
        "variance = sum([((x - mean) ** 2) for x in lst]) / len(lst)\r\n",
        "print(\"The variance of the list is:\", variance)"
      ],
      "execution_count": 29,
      "outputs": [
        {
          "output_type": "stream",
          "text": [
            "The variance of the list is: 7432462175.6399975\n"
          ],
          "name": "stdout"
        }
      ]
    },
    {
      "cell_type": "code",
      "metadata": {
        "colab": {
          "base_uri": "https://localhost:8080/"
        },
        "id": "g5WNOr0O2ep_",
        "outputId": "7ba42370-651a-483e-830e-26c3b28c5697"
      },
      "source": [
        "# Standard deviation is the square root of variance\r\n",
        "standard_dev = (variance)**(1/2)\r\n",
        "print(\"The standard_dev of the list is:\", standard_dev)"
      ],
      "execution_count": 30,
      "outputs": [
        {
          "output_type": "stream",
          "text": [
            "The standard_dev of the list is: 86211.72875914273\n"
          ],
          "name": "stdout"
        }
      ]
    },
    {
      "cell_type": "code",
      "metadata": {
        "id": "BlsRFLMM0XAD"
      },
      "source": [
        ""
      ],
      "execution_count": null,
      "outputs": []
    }
  ]
}