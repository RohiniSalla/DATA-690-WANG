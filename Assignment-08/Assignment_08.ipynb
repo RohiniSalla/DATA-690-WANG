{
  "cells": [
    {
      "cell_type": "markdown",
      "source": "### Assignment 8\nFor this assignment , we will use the college scorecard dataset. \n1. You are required to use deepnote.com\n2. You will upload the zip file (300 some MB) to deepnote or use Linux Terminal command line wget command.\n3. You will unzip the file using Linux Terminal unzip command.\n4. For visualization, you can use Matplotlib, Seaborn, or Plotly Express\n\n\n",
      "metadata": {
        "id": "-2fQAV7J6oI1",
        "cell_id": "00000-3ceea823-e131-4eb9-9413-b765c63eaa7c",
        "deepnote_cell_type": "markdown"
      }
    },
    {
      "cell_type": "code",
      "metadata": {
        "id": "HpZckaJR6oI8",
        "cell_id": "00001-fa84616f-3ba3-4360-be34-a9ae88a797d8",
        "deepnote_to_be_reexecuted": false,
        "source_hash": "f8192d85",
        "execution_millis": 2,
        "execution_start": 1618794274735,
        "deepnote_cell_type": "code"
      },
      "source": "# 1 - Import necessary libraries\nimport pandas as pd\nimport matplotlib.pyplot as plt\nimport os",
      "execution_count": 83,
      "outputs": []
    },
    {
      "cell_type": "code",
      "metadata": {
        "id": "6qafjqpb6oJC",
        "cell_id": "00002-a0e2085b-b5e0-4152-8c2f-c93fdd0d0c54",
        "deepnote_to_be_reexecuted": false,
        "source_hash": "b30b6ba",
        "execution_millis": 87202,
        "execution_start": 1618791181453,
        "deepnote_cell_type": "code"
      },
      "source": "# 2 - Retrieve the names of the 22 files and assign them to a List variable\n# You would need to filter out other files\n# Display the names of these 22 files\n\n!unzip \"xyz.zip\" #Unzipping zip file",
      "execution_count": 3,
      "outputs": [
        {
          "name": "stdout",
          "text": "Archive:  xyz.zip\nreplace Raw Data Files/MERGED2011_12_PP.csv? [y]es, [n]o, [A]ll, [N]one, [r]ename: ^C\n",
          "output_type": "stream"
        }
      ]
    },
    {
      "cell_type": "code",
      "metadata": {
        "tags": [],
        "cell_id": "00003-e024ea74-57b4-4a62-a352-aaef968d3fed",
        "deepnote_to_be_reexecuted": false,
        "source_hash": "7100ba3b",
        "execution_millis": 8,
        "execution_start": 1618794277954,
        "deepnote_cell_type": "code"
      },
      "source": "files = [i for i in os.listdir('Raw Data Files') if 'MERGED' in i]#Files to list\nfiles",
      "execution_count": 84,
      "outputs": [
        {
          "output_type": "execute_result",
          "execution_count": 84,
          "data": {
            "text/plain": "['MERGED2016_17_PP.csv',\n 'MERGED2008_09_PP.csv',\n 'MERGED2009_10_PP.csv',\n 'MERGED2001_02_PP.csv',\n 'MERGED2017_18_PP.csv',\n 'MERGED2014_15_PP.csv',\n 'MERGED2005_06_PP.csv',\n 'MERGED2003_04_PP.csv',\n 'MERGED2010_11_PP.csv',\n 'MERGED1998_99_PP.csv',\n 'MERGED2012_13_PP.csv',\n 'MERGED1999_00_PP.csv',\n 'MERGED2006_07_PP.csv',\n 'MERGED2018_19_PP.csv',\n 'MERGED2011_12_PP.csv',\n 'MERGED2007_08_PP.csv',\n 'MERGED2004_05_PP.csv',\n 'MERGED2015_16_PP.csv',\n 'MERGED2013_14_PP.csv',\n 'MERGED1996_97_PP.csv',\n 'MERGED2000_01_PP.csv',\n 'MERGED2002_03_PP.csv',\n 'MERGED1997_98_PP.csv']"
          },
          "metadata": {}
        }
      ]
    },
    {
      "cell_type": "code",
      "metadata": {
        "id": "ft9Rn1lp6oJG",
        "cell_id": "00003-907575a7-4beb-4a48-9fac-3a72b935fed5",
        "deepnote_to_be_reexecuted": false,
        "source_hash": "da20a97a",
        "execution_millis": 16,
        "execution_start": 1618794278623,
        "deepnote_cell_type": "code"
      },
      "source": "# 3 - Write code to randomly select one file name out of the 22 files names. \n# Hint: generate a random integer between 0 and 21 first\n# Display the file name\n\nfrom random import randint\nx = randint(0,len(files))\n# Selecting random file\nrandom_file_selected = files[x]\nrandom_file_selected #Random file",
      "execution_count": 85,
      "outputs": [
        {
          "output_type": "execute_result",
          "execution_count": 85,
          "data": {
            "text/plain": "'MERGED2000_01_PP.csv'"
          },
          "metadata": {}
        }
      ]
    },
    {
      "cell_type": "code",
      "metadata": {
        "id": "DJy1hmWM6oJN",
        "cell_id": "00004-1a6072b4-30c6-4255-ba3a-d23aec4c357e",
        "deepnote_to_be_reexecuted": false,
        "source_hash": "33a018aa",
        "execution_millis": 1641,
        "execution_start": 1618794278997,
        "deepnote_cell_type": "code"
      },
      "source": "# 4 - Only read the two columns: college name (INSTNM) and in state tution (\"TUITIONFEE_IN\")\n# from this file into a data frame aand display use info() function to display a summary information\ncol_list = [\"INSTNM\", \"TUITIONFEE_IN\"]\ndf = pd.read_csv('Raw Data Files/'+ random_file_selected, usecols=col_list)\ndf.info()",
      "execution_count": 86,
      "outputs": [
        {
          "name": "stdout",
          "text": "<class 'pandas.core.frame.DataFrame'>\nRangeIndex: 6654 entries, 0 to 6653\nData columns (total 2 columns):\n #   Column         Non-Null Count  Dtype  \n---  ------         --------------  -----  \n 0   INSTNM         6654 non-null   object \n 1   TUITIONFEE_IN  3360 non-null   float64\ndtypes: float64(1), object(1)\nmemory usage: 104.1+ KB\n",
          "output_type": "stream"
        }
      ]
    },
    {
      "cell_type": "code",
      "metadata": {
        "id": "wU5Ozu106oJR",
        "cell_id": "00005-f3747f7b-bf7f-4dff-aeda-d89b4381f47d",
        "deepnote_to_be_reexecuted": false,
        "source_hash": "f0167e68",
        "execution_millis": 15,
        "execution_start": 1618794280669,
        "deepnote_cell_type": "code"
      },
      "source": "# 5 - Find out how many observations have missing value.\ndf.isnull()",
      "execution_count": 87,
      "outputs": [
        {
          "output_type": "execute_result",
          "execution_count": 87,
          "data": {
            "application/vnd.deepnote.dataframe.v2+json": {
              "row_count": 6654,
              "column_count": 2,
              "columns": [
                {
                  "name": "INSTNM",
                  "dtype": "bool",
                  "stats": {
                    "unique_count": 1,
                    "nan_count": 0,
                    "categories": [
                      {
                        "name": "False",
                        "count": 6654
                      }
                    ]
                  }
                },
                {
                  "name": "TUITIONFEE_IN",
                  "dtype": "bool",
                  "stats": {
                    "unique_count": 2,
                    "nan_count": 0,
                    "categories": [
                      {
                        "name": "False",
                        "count": 3360
                      },
                      {
                        "name": "True",
                        "count": 3294
                      }
                    ]
                  }
                },
                {
                  "name": "_deepnote_index_column",
                  "dtype": "int64"
                }
              ],
              "rows_top": [
                {
                  "INSTNM": false,
                  "TUITIONFEE_IN": true,
                  "_deepnote_index_column": 0
                },
                {
                  "INSTNM": false,
                  "TUITIONFEE_IN": false,
                  "_deepnote_index_column": 1
                },
                {
                  "INSTNM": false,
                  "TUITIONFEE_IN": false,
                  "_deepnote_index_column": 2
                },
                {
                  "INSTNM": false,
                  "TUITIONFEE_IN": true,
                  "_deepnote_index_column": 3
                },
                {
                  "INSTNM": false,
                  "TUITIONFEE_IN": false,
                  "_deepnote_index_column": 4
                },
                {
                  "INSTNM": false,
                  "TUITIONFEE_IN": false,
                  "_deepnote_index_column": 5
                },
                {
                  "INSTNM": false,
                  "TUITIONFEE_IN": false,
                  "_deepnote_index_column": 6
                },
                {
                  "INSTNM": false,
                  "TUITIONFEE_IN": false,
                  "_deepnote_index_column": 7
                },
                {
                  "INSTNM": false,
                  "TUITIONFEE_IN": true,
                  "_deepnote_index_column": 8
                },
                {
                  "INSTNM": false,
                  "TUITIONFEE_IN": false,
                  "_deepnote_index_column": 9
                },
                {
                  "INSTNM": false,
                  "TUITIONFEE_IN": false,
                  "_deepnote_index_column": 10
                },
                {
                  "INSTNM": false,
                  "TUITIONFEE_IN": false,
                  "_deepnote_index_column": 11
                },
                {
                  "INSTNM": false,
                  "TUITIONFEE_IN": false,
                  "_deepnote_index_column": 12
                },
                {
                  "INSTNM": false,
                  "TUITIONFEE_IN": false,
                  "_deepnote_index_column": 13
                },
                {
                  "INSTNM": false,
                  "TUITIONFEE_IN": false,
                  "_deepnote_index_column": 14
                },
                {
                  "INSTNM": false,
                  "TUITIONFEE_IN": false,
                  "_deepnote_index_column": 15
                },
                {
                  "INSTNM": false,
                  "TUITIONFEE_IN": false,
                  "_deepnote_index_column": 16
                },
                {
                  "INSTNM": false,
                  "TUITIONFEE_IN": false,
                  "_deepnote_index_column": 17
                },
                {
                  "INSTNM": false,
                  "TUITIONFEE_IN": false,
                  "_deepnote_index_column": 18
                },
                {
                  "INSTNM": false,
                  "TUITIONFEE_IN": false,
                  "_deepnote_index_column": 19
                },
                {
                  "INSTNM": false,
                  "TUITIONFEE_IN": false,
                  "_deepnote_index_column": 20
                },
                {
                  "INSTNM": false,
                  "TUITIONFEE_IN": false,
                  "_deepnote_index_column": 21
                },
                {
                  "INSTNM": false,
                  "TUITIONFEE_IN": false,
                  "_deepnote_index_column": 22
                },
                {
                  "INSTNM": false,
                  "TUITIONFEE_IN": true,
                  "_deepnote_index_column": 23
                },
                {
                  "INSTNM": false,
                  "TUITIONFEE_IN": false,
                  "_deepnote_index_column": 24
                },
                {
                  "INSTNM": false,
                  "TUITIONFEE_IN": true,
                  "_deepnote_index_column": 25
                },
                {
                  "INSTNM": false,
                  "TUITIONFEE_IN": false,
                  "_deepnote_index_column": 26
                },
                {
                  "INSTNM": false,
                  "TUITIONFEE_IN": false,
                  "_deepnote_index_column": 27
                },
                {
                  "INSTNM": false,
                  "TUITIONFEE_IN": false,
                  "_deepnote_index_column": 28
                },
                {
                  "INSTNM": false,
                  "TUITIONFEE_IN": false,
                  "_deepnote_index_column": 29
                },
                {
                  "INSTNM": false,
                  "TUITIONFEE_IN": false,
                  "_deepnote_index_column": 30
                },
                {
                  "INSTNM": false,
                  "TUITIONFEE_IN": false,
                  "_deepnote_index_column": 31
                },
                {
                  "INSTNM": false,
                  "TUITIONFEE_IN": false,
                  "_deepnote_index_column": 32
                },
                {
                  "INSTNM": false,
                  "TUITIONFEE_IN": false,
                  "_deepnote_index_column": 33
                },
                {
                  "INSTNM": false,
                  "TUITIONFEE_IN": false,
                  "_deepnote_index_column": 34
                },
                {
                  "INSTNM": false,
                  "TUITIONFEE_IN": false,
                  "_deepnote_index_column": 35
                },
                {
                  "INSTNM": false,
                  "TUITIONFEE_IN": false,
                  "_deepnote_index_column": 36
                },
                {
                  "INSTNM": false,
                  "TUITIONFEE_IN": false,
                  "_deepnote_index_column": 37
                },
                {
                  "INSTNM": false,
                  "TUITIONFEE_IN": false,
                  "_deepnote_index_column": 38
                },
                {
                  "INSTNM": false,
                  "TUITIONFEE_IN": false,
                  "_deepnote_index_column": 39
                },
                {
                  "INSTNM": false,
                  "TUITIONFEE_IN": false,
                  "_deepnote_index_column": 40
                },
                {
                  "INSTNM": false,
                  "TUITIONFEE_IN": false,
                  "_deepnote_index_column": 41
                },
                {
                  "INSTNM": false,
                  "TUITIONFEE_IN": false,
                  "_deepnote_index_column": 42
                },
                {
                  "INSTNM": false,
                  "TUITIONFEE_IN": false,
                  "_deepnote_index_column": 43
                },
                {
                  "INSTNM": false,
                  "TUITIONFEE_IN": false,
                  "_deepnote_index_column": 44
                },
                {
                  "INSTNM": false,
                  "TUITIONFEE_IN": false,
                  "_deepnote_index_column": 45
                },
                {
                  "INSTNM": false,
                  "TUITIONFEE_IN": false,
                  "_deepnote_index_column": 46
                },
                {
                  "INSTNM": false,
                  "TUITIONFEE_IN": false,
                  "_deepnote_index_column": 47
                },
                {
                  "INSTNM": false,
                  "TUITIONFEE_IN": false,
                  "_deepnote_index_column": 48
                },
                {
                  "INSTNM": false,
                  "TUITIONFEE_IN": false,
                  "_deepnote_index_column": 49
                },
                {
                  "INSTNM": false,
                  "TUITIONFEE_IN": true,
                  "_deepnote_index_column": 50
                },
                {
                  "INSTNM": false,
                  "TUITIONFEE_IN": false,
                  "_deepnote_index_column": 51
                },
                {
                  "INSTNM": false,
                  "TUITIONFEE_IN": true,
                  "_deepnote_index_column": 52
                },
                {
                  "INSTNM": false,
                  "TUITIONFEE_IN": false,
                  "_deepnote_index_column": 53
                },
                {
                  "INSTNM": false,
                  "TUITIONFEE_IN": false,
                  "_deepnote_index_column": 54
                },
                {
                  "INSTNM": false,
                  "TUITIONFEE_IN": false,
                  "_deepnote_index_column": 55
                },
                {
                  "INSTNM": false,
                  "TUITIONFEE_IN": false,
                  "_deepnote_index_column": 56
                },
                {
                  "INSTNM": false,
                  "TUITIONFEE_IN": false,
                  "_deepnote_index_column": 57
                },
                {
                  "INSTNM": false,
                  "TUITIONFEE_IN": false,
                  "_deepnote_index_column": 58
                },
                {
                  "INSTNM": false,
                  "TUITIONFEE_IN": false,
                  "_deepnote_index_column": 59
                },
                {
                  "INSTNM": false,
                  "TUITIONFEE_IN": false,
                  "_deepnote_index_column": 60
                },
                {
                  "INSTNM": false,
                  "TUITIONFEE_IN": false,
                  "_deepnote_index_column": 61
                },
                {
                  "INSTNM": false,
                  "TUITIONFEE_IN": false,
                  "_deepnote_index_column": 62
                },
                {
                  "INSTNM": false,
                  "TUITIONFEE_IN": true,
                  "_deepnote_index_column": 63
                },
                {
                  "INSTNM": false,
                  "TUITIONFEE_IN": false,
                  "_deepnote_index_column": 64
                },
                {
                  "INSTNM": false,
                  "TUITIONFEE_IN": false,
                  "_deepnote_index_column": 65
                },
                {
                  "INSTNM": false,
                  "TUITIONFEE_IN": false,
                  "_deepnote_index_column": 66
                },
                {
                  "INSTNM": false,
                  "TUITIONFEE_IN": true,
                  "_deepnote_index_column": 67
                },
                {
                  "INSTNM": false,
                  "TUITIONFEE_IN": false,
                  "_deepnote_index_column": 68
                },
                {
                  "INSTNM": false,
                  "TUITIONFEE_IN": false,
                  "_deepnote_index_column": 69
                },
                {
                  "INSTNM": false,
                  "TUITIONFEE_IN": false,
                  "_deepnote_index_column": 70
                },
                {
                  "INSTNM": false,
                  "TUITIONFEE_IN": true,
                  "_deepnote_index_column": 71
                },
                {
                  "INSTNM": false,
                  "TUITIONFEE_IN": false,
                  "_deepnote_index_column": 72
                },
                {
                  "INSTNM": false,
                  "TUITIONFEE_IN": false,
                  "_deepnote_index_column": 73
                },
                {
                  "INSTNM": false,
                  "TUITIONFEE_IN": false,
                  "_deepnote_index_column": 74
                },
                {
                  "INSTNM": false,
                  "TUITIONFEE_IN": false,
                  "_deepnote_index_column": 75
                },
                {
                  "INSTNM": false,
                  "TUITIONFEE_IN": false,
                  "_deepnote_index_column": 76
                },
                {
                  "INSTNM": false,
                  "TUITIONFEE_IN": false,
                  "_deepnote_index_column": 77
                },
                {
                  "INSTNM": false,
                  "TUITIONFEE_IN": true,
                  "_deepnote_index_column": 78
                },
                {
                  "INSTNM": false,
                  "TUITIONFEE_IN": true,
                  "_deepnote_index_column": 79
                },
                {
                  "INSTNM": false,
                  "TUITIONFEE_IN": true,
                  "_deepnote_index_column": 80
                },
                {
                  "INSTNM": false,
                  "TUITIONFEE_IN": false,
                  "_deepnote_index_column": 81
                },
                {
                  "INSTNM": false,
                  "TUITIONFEE_IN": false,
                  "_deepnote_index_column": 82
                },
                {
                  "INSTNM": false,
                  "TUITIONFEE_IN": true,
                  "_deepnote_index_column": 83
                },
                {
                  "INSTNM": false,
                  "TUITIONFEE_IN": true,
                  "_deepnote_index_column": 84
                },
                {
                  "INSTNM": false,
                  "TUITIONFEE_IN": true,
                  "_deepnote_index_column": 85
                },
                {
                  "INSTNM": false,
                  "TUITIONFEE_IN": true,
                  "_deepnote_index_column": 86
                },
                {
                  "INSTNM": false,
                  "TUITIONFEE_IN": true,
                  "_deepnote_index_column": 87
                },
                {
                  "INSTNM": false,
                  "TUITIONFEE_IN": true,
                  "_deepnote_index_column": 88
                },
                {
                  "INSTNM": false,
                  "TUITIONFEE_IN": false,
                  "_deepnote_index_column": 89
                },
                {
                  "INSTNM": false,
                  "TUITIONFEE_IN": true,
                  "_deepnote_index_column": 90
                },
                {
                  "INSTNM": false,
                  "TUITIONFEE_IN": true,
                  "_deepnote_index_column": 91
                },
                {
                  "INSTNM": false,
                  "TUITIONFEE_IN": true,
                  "_deepnote_index_column": 92
                },
                {
                  "INSTNM": false,
                  "TUITIONFEE_IN": true,
                  "_deepnote_index_column": 93
                },
                {
                  "INSTNM": false,
                  "TUITIONFEE_IN": true,
                  "_deepnote_index_column": 94
                },
                {
                  "INSTNM": false,
                  "TUITIONFEE_IN": true,
                  "_deepnote_index_column": 95
                },
                {
                  "INSTNM": false,
                  "TUITIONFEE_IN": false,
                  "_deepnote_index_column": 96
                },
                {
                  "INSTNM": false,
                  "TUITIONFEE_IN": true,
                  "_deepnote_index_column": 97
                },
                {
                  "INSTNM": false,
                  "TUITIONFEE_IN": false,
                  "_deepnote_index_column": 98
                },
                {
                  "INSTNM": false,
                  "TUITIONFEE_IN": false,
                  "_deepnote_index_column": 99
                },
                {
                  "INSTNM": false,
                  "TUITIONFEE_IN": false,
                  "_deepnote_index_column": 100
                },
                {
                  "INSTNM": false,
                  "TUITIONFEE_IN": false,
                  "_deepnote_index_column": 101
                },
                {
                  "INSTNM": false,
                  "TUITIONFEE_IN": true,
                  "_deepnote_index_column": 102
                },
                {
                  "INSTNM": false,
                  "TUITIONFEE_IN": false,
                  "_deepnote_index_column": 103
                },
                {
                  "INSTNM": false,
                  "TUITIONFEE_IN": true,
                  "_deepnote_index_column": 104
                },
                {
                  "INSTNM": false,
                  "TUITIONFEE_IN": true,
                  "_deepnote_index_column": 105
                },
                {
                  "INSTNM": false,
                  "TUITIONFEE_IN": false,
                  "_deepnote_index_column": 106
                },
                {
                  "INSTNM": false,
                  "TUITIONFEE_IN": true,
                  "_deepnote_index_column": 107
                },
                {
                  "INSTNM": false,
                  "TUITIONFEE_IN": true,
                  "_deepnote_index_column": 108
                },
                {
                  "INSTNM": false,
                  "TUITIONFEE_IN": false,
                  "_deepnote_index_column": 109
                },
                {
                  "INSTNM": false,
                  "TUITIONFEE_IN": true,
                  "_deepnote_index_column": 110
                },
                {
                  "INSTNM": false,
                  "TUITIONFEE_IN": false,
                  "_deepnote_index_column": 111
                },
                {
                  "INSTNM": false,
                  "TUITIONFEE_IN": true,
                  "_deepnote_index_column": 112
                },
                {
                  "INSTNM": false,
                  "TUITIONFEE_IN": false,
                  "_deepnote_index_column": 113
                },
                {
                  "INSTNM": false,
                  "TUITIONFEE_IN": false,
                  "_deepnote_index_column": 114
                },
                {
                  "INSTNM": false,
                  "TUITIONFEE_IN": false,
                  "_deepnote_index_column": 115
                },
                {
                  "INSTNM": false,
                  "TUITIONFEE_IN": true,
                  "_deepnote_index_column": 116
                },
                {
                  "INSTNM": false,
                  "TUITIONFEE_IN": true,
                  "_deepnote_index_column": 117
                },
                {
                  "INSTNM": false,
                  "TUITIONFEE_IN": true,
                  "_deepnote_index_column": 118
                },
                {
                  "INSTNM": false,
                  "TUITIONFEE_IN": true,
                  "_deepnote_index_column": 119
                },
                {
                  "INSTNM": false,
                  "TUITIONFEE_IN": true,
                  "_deepnote_index_column": 120
                },
                {
                  "INSTNM": false,
                  "TUITIONFEE_IN": false,
                  "_deepnote_index_column": 121
                },
                {
                  "INSTNM": false,
                  "TUITIONFEE_IN": false,
                  "_deepnote_index_column": 122
                },
                {
                  "INSTNM": false,
                  "TUITIONFEE_IN": false,
                  "_deepnote_index_column": 123
                },
                {
                  "INSTNM": false,
                  "TUITIONFEE_IN": false,
                  "_deepnote_index_column": 124
                },
                {
                  "INSTNM": false,
                  "TUITIONFEE_IN": false,
                  "_deepnote_index_column": 125
                },
                {
                  "INSTNM": false,
                  "TUITIONFEE_IN": true,
                  "_deepnote_index_column": 126
                },
                {
                  "INSTNM": false,
                  "TUITIONFEE_IN": true,
                  "_deepnote_index_column": 127
                },
                {
                  "INSTNM": false,
                  "TUITIONFEE_IN": true,
                  "_deepnote_index_column": 128
                },
                {
                  "INSTNM": false,
                  "TUITIONFEE_IN": false,
                  "_deepnote_index_column": 129
                },
                {
                  "INSTNM": false,
                  "TUITIONFEE_IN": false,
                  "_deepnote_index_column": 130
                },
                {
                  "INSTNM": false,
                  "TUITIONFEE_IN": true,
                  "_deepnote_index_column": 131
                },
                {
                  "INSTNM": false,
                  "TUITIONFEE_IN": true,
                  "_deepnote_index_column": 132
                },
                {
                  "INSTNM": false,
                  "TUITIONFEE_IN": false,
                  "_deepnote_index_column": 133
                },
                {
                  "INSTNM": false,
                  "TUITIONFEE_IN": true,
                  "_deepnote_index_column": 134
                },
                {
                  "INSTNM": false,
                  "TUITIONFEE_IN": true,
                  "_deepnote_index_column": 135
                },
                {
                  "INSTNM": false,
                  "TUITIONFEE_IN": false,
                  "_deepnote_index_column": 136
                },
                {
                  "INSTNM": false,
                  "TUITIONFEE_IN": true,
                  "_deepnote_index_column": 137
                },
                {
                  "INSTNM": false,
                  "TUITIONFEE_IN": true,
                  "_deepnote_index_column": 138
                },
                {
                  "INSTNM": false,
                  "TUITIONFEE_IN": false,
                  "_deepnote_index_column": 139
                },
                {
                  "INSTNM": false,
                  "TUITIONFEE_IN": true,
                  "_deepnote_index_column": 140
                },
                {
                  "INSTNM": false,
                  "TUITIONFEE_IN": false,
                  "_deepnote_index_column": 141
                },
                {
                  "INSTNM": false,
                  "TUITIONFEE_IN": true,
                  "_deepnote_index_column": 142
                },
                {
                  "INSTNM": false,
                  "TUITIONFEE_IN": true,
                  "_deepnote_index_column": 143
                },
                {
                  "INSTNM": false,
                  "TUITIONFEE_IN": false,
                  "_deepnote_index_column": 144
                },
                {
                  "INSTNM": false,
                  "TUITIONFEE_IN": false,
                  "_deepnote_index_column": 145
                },
                {
                  "INSTNM": false,
                  "TUITIONFEE_IN": true,
                  "_deepnote_index_column": 146
                },
                {
                  "INSTNM": false,
                  "TUITIONFEE_IN": false,
                  "_deepnote_index_column": 147
                },
                {
                  "INSTNM": false,
                  "TUITIONFEE_IN": true,
                  "_deepnote_index_column": 148
                },
                {
                  "INSTNM": false,
                  "TUITIONFEE_IN": true,
                  "_deepnote_index_column": 149
                },
                {
                  "INSTNM": false,
                  "TUITIONFEE_IN": false,
                  "_deepnote_index_column": 150
                },
                {
                  "INSTNM": false,
                  "TUITIONFEE_IN": false,
                  "_deepnote_index_column": 151
                },
                {
                  "INSTNM": false,
                  "TUITIONFEE_IN": true,
                  "_deepnote_index_column": 152
                },
                {
                  "INSTNM": false,
                  "TUITIONFEE_IN": false,
                  "_deepnote_index_column": 153
                },
                {
                  "INSTNM": false,
                  "TUITIONFEE_IN": true,
                  "_deepnote_index_column": 154
                },
                {
                  "INSTNM": false,
                  "TUITIONFEE_IN": true,
                  "_deepnote_index_column": 155
                },
                {
                  "INSTNM": false,
                  "TUITIONFEE_IN": true,
                  "_deepnote_index_column": 156
                },
                {
                  "INSTNM": false,
                  "TUITIONFEE_IN": false,
                  "_deepnote_index_column": 157
                },
                {
                  "INSTNM": false,
                  "TUITIONFEE_IN": true,
                  "_deepnote_index_column": 158
                },
                {
                  "INSTNM": false,
                  "TUITIONFEE_IN": false,
                  "_deepnote_index_column": 159
                },
                {
                  "INSTNM": false,
                  "TUITIONFEE_IN": true,
                  "_deepnote_index_column": 160
                },
                {
                  "INSTNM": false,
                  "TUITIONFEE_IN": true,
                  "_deepnote_index_column": 161
                },
                {
                  "INSTNM": false,
                  "TUITIONFEE_IN": false,
                  "_deepnote_index_column": 162
                },
                {
                  "INSTNM": false,
                  "TUITIONFEE_IN": false,
                  "_deepnote_index_column": 163
                },
                {
                  "INSTNM": false,
                  "TUITIONFEE_IN": false,
                  "_deepnote_index_column": 164
                },
                {
                  "INSTNM": false,
                  "TUITIONFEE_IN": false,
                  "_deepnote_index_column": 165
                },
                {
                  "INSTNM": false,
                  "TUITIONFEE_IN": false,
                  "_deepnote_index_column": 166
                },
                {
                  "INSTNM": false,
                  "TUITIONFEE_IN": true,
                  "_deepnote_index_column": 167
                },
                {
                  "INSTNM": false,
                  "TUITIONFEE_IN": false,
                  "_deepnote_index_column": 168
                },
                {
                  "INSTNM": false,
                  "TUITIONFEE_IN": true,
                  "_deepnote_index_column": 169
                },
                {
                  "INSTNM": false,
                  "TUITIONFEE_IN": true,
                  "_deepnote_index_column": 170
                },
                {
                  "INSTNM": false,
                  "TUITIONFEE_IN": true,
                  "_deepnote_index_column": 171
                },
                {
                  "INSTNM": false,
                  "TUITIONFEE_IN": false,
                  "_deepnote_index_column": 172
                },
                {
                  "INSTNM": false,
                  "TUITIONFEE_IN": false,
                  "_deepnote_index_column": 173
                },
                {
                  "INSTNM": false,
                  "TUITIONFEE_IN": false,
                  "_deepnote_index_column": 174
                },
                {
                  "INSTNM": false,
                  "TUITIONFEE_IN": true,
                  "_deepnote_index_column": 175
                },
                {
                  "INSTNM": false,
                  "TUITIONFEE_IN": false,
                  "_deepnote_index_column": 176
                },
                {
                  "INSTNM": false,
                  "TUITIONFEE_IN": true,
                  "_deepnote_index_column": 177
                },
                {
                  "INSTNM": false,
                  "TUITIONFEE_IN": false,
                  "_deepnote_index_column": 178
                },
                {
                  "INSTNM": false,
                  "TUITIONFEE_IN": false,
                  "_deepnote_index_column": 179
                },
                {
                  "INSTNM": false,
                  "TUITIONFEE_IN": true,
                  "_deepnote_index_column": 180
                },
                {
                  "INSTNM": false,
                  "TUITIONFEE_IN": true,
                  "_deepnote_index_column": 181
                },
                {
                  "INSTNM": false,
                  "TUITIONFEE_IN": false,
                  "_deepnote_index_column": 182
                },
                {
                  "INSTNM": false,
                  "TUITIONFEE_IN": true,
                  "_deepnote_index_column": 183
                },
                {
                  "INSTNM": false,
                  "TUITIONFEE_IN": true,
                  "_deepnote_index_column": 184
                },
                {
                  "INSTNM": false,
                  "TUITIONFEE_IN": false,
                  "_deepnote_index_column": 185
                },
                {
                  "INSTNM": false,
                  "TUITIONFEE_IN": true,
                  "_deepnote_index_column": 186
                },
                {
                  "INSTNM": false,
                  "TUITIONFEE_IN": false,
                  "_deepnote_index_column": 187
                },
                {
                  "INSTNM": false,
                  "TUITIONFEE_IN": false,
                  "_deepnote_index_column": 188
                },
                {
                  "INSTNM": false,
                  "TUITIONFEE_IN": true,
                  "_deepnote_index_column": 189
                },
                {
                  "INSTNM": false,
                  "TUITIONFEE_IN": true,
                  "_deepnote_index_column": 190
                },
                {
                  "INSTNM": false,
                  "TUITIONFEE_IN": false,
                  "_deepnote_index_column": 191
                },
                {
                  "INSTNM": false,
                  "TUITIONFEE_IN": false,
                  "_deepnote_index_column": 192
                },
                {
                  "INSTNM": false,
                  "TUITIONFEE_IN": false,
                  "_deepnote_index_column": 193
                },
                {
                  "INSTNM": false,
                  "TUITIONFEE_IN": true,
                  "_deepnote_index_column": 194
                },
                {
                  "INSTNM": false,
                  "TUITIONFEE_IN": false,
                  "_deepnote_index_column": 195
                },
                {
                  "INSTNM": false,
                  "TUITIONFEE_IN": false,
                  "_deepnote_index_column": 196
                },
                {
                  "INSTNM": false,
                  "TUITIONFEE_IN": true,
                  "_deepnote_index_column": 197
                },
                {
                  "INSTNM": false,
                  "TUITIONFEE_IN": true,
                  "_deepnote_index_column": 198
                },
                {
                  "INSTNM": false,
                  "TUITIONFEE_IN": true,
                  "_deepnote_index_column": 199
                },
                {
                  "INSTNM": false,
                  "TUITIONFEE_IN": true,
                  "_deepnote_index_column": 200
                },
                {
                  "INSTNM": false,
                  "TUITIONFEE_IN": false,
                  "_deepnote_index_column": 201
                },
                {
                  "INSTNM": false,
                  "TUITIONFEE_IN": false,
                  "_deepnote_index_column": 202
                },
                {
                  "INSTNM": false,
                  "TUITIONFEE_IN": true,
                  "_deepnote_index_column": 203
                },
                {
                  "INSTNM": false,
                  "TUITIONFEE_IN": true,
                  "_deepnote_index_column": 204
                },
                {
                  "INSTNM": false,
                  "TUITIONFEE_IN": false,
                  "_deepnote_index_column": 205
                },
                {
                  "INSTNM": false,
                  "TUITIONFEE_IN": false,
                  "_deepnote_index_column": 206
                },
                {
                  "INSTNM": false,
                  "TUITIONFEE_IN": false,
                  "_deepnote_index_column": 207
                },
                {
                  "INSTNM": false,
                  "TUITIONFEE_IN": false,
                  "_deepnote_index_column": 208
                },
                {
                  "INSTNM": false,
                  "TUITIONFEE_IN": false,
                  "_deepnote_index_column": 209
                },
                {
                  "INSTNM": false,
                  "TUITIONFEE_IN": false,
                  "_deepnote_index_column": 210
                },
                {
                  "INSTNM": false,
                  "TUITIONFEE_IN": false,
                  "_deepnote_index_column": 211
                },
                {
                  "INSTNM": false,
                  "TUITIONFEE_IN": false,
                  "_deepnote_index_column": 212
                },
                {
                  "INSTNM": false,
                  "TUITIONFEE_IN": false,
                  "_deepnote_index_column": 213
                },
                {
                  "INSTNM": false,
                  "TUITIONFEE_IN": false,
                  "_deepnote_index_column": 214
                },
                {
                  "INSTNM": false,
                  "TUITIONFEE_IN": true,
                  "_deepnote_index_column": 215
                },
                {
                  "INSTNM": false,
                  "TUITIONFEE_IN": false,
                  "_deepnote_index_column": 216
                },
                {
                  "INSTNM": false,
                  "TUITIONFEE_IN": true,
                  "_deepnote_index_column": 217
                },
                {
                  "INSTNM": false,
                  "TUITIONFEE_IN": false,
                  "_deepnote_index_column": 218
                },
                {
                  "INSTNM": false,
                  "TUITIONFEE_IN": true,
                  "_deepnote_index_column": 219
                },
                {
                  "INSTNM": false,
                  "TUITIONFEE_IN": true,
                  "_deepnote_index_column": 220
                },
                {
                  "INSTNM": false,
                  "TUITIONFEE_IN": true,
                  "_deepnote_index_column": 221
                },
                {
                  "INSTNM": false,
                  "TUITIONFEE_IN": false,
                  "_deepnote_index_column": 222
                },
                {
                  "INSTNM": false,
                  "TUITIONFEE_IN": true,
                  "_deepnote_index_column": 223
                },
                {
                  "INSTNM": false,
                  "TUITIONFEE_IN": false,
                  "_deepnote_index_column": 224
                },
                {
                  "INSTNM": false,
                  "TUITIONFEE_IN": false,
                  "_deepnote_index_column": 225
                },
                {
                  "INSTNM": false,
                  "TUITIONFEE_IN": false,
                  "_deepnote_index_column": 226
                },
                {
                  "INSTNM": false,
                  "TUITIONFEE_IN": true,
                  "_deepnote_index_column": 227
                },
                {
                  "INSTNM": false,
                  "TUITIONFEE_IN": false,
                  "_deepnote_index_column": 228
                },
                {
                  "INSTNM": false,
                  "TUITIONFEE_IN": false,
                  "_deepnote_index_column": 229
                },
                {
                  "INSTNM": false,
                  "TUITIONFEE_IN": false,
                  "_deepnote_index_column": 230
                },
                {
                  "INSTNM": false,
                  "TUITIONFEE_IN": true,
                  "_deepnote_index_column": 231
                },
                {
                  "INSTNM": false,
                  "TUITIONFEE_IN": true,
                  "_deepnote_index_column": 232
                },
                {
                  "INSTNM": false,
                  "TUITIONFEE_IN": true,
                  "_deepnote_index_column": 233
                },
                {
                  "INSTNM": false,
                  "TUITIONFEE_IN": true,
                  "_deepnote_index_column": 234
                },
                {
                  "INSTNM": false,
                  "TUITIONFEE_IN": true,
                  "_deepnote_index_column": 235
                },
                {
                  "INSTNM": false,
                  "TUITIONFEE_IN": false,
                  "_deepnote_index_column": 236
                },
                {
                  "INSTNM": false,
                  "TUITIONFEE_IN": false,
                  "_deepnote_index_column": 237
                },
                {
                  "INSTNM": false,
                  "TUITIONFEE_IN": false,
                  "_deepnote_index_column": 238
                },
                {
                  "INSTNM": false,
                  "TUITIONFEE_IN": true,
                  "_deepnote_index_column": 239
                },
                {
                  "INSTNM": false,
                  "TUITIONFEE_IN": true,
                  "_deepnote_index_column": 240
                },
                {
                  "INSTNM": false,
                  "TUITIONFEE_IN": true,
                  "_deepnote_index_column": 241
                },
                {
                  "INSTNM": false,
                  "TUITIONFEE_IN": false,
                  "_deepnote_index_column": 242
                },
                {
                  "INSTNM": false,
                  "TUITIONFEE_IN": true,
                  "_deepnote_index_column": 243
                },
                {
                  "INSTNM": false,
                  "TUITIONFEE_IN": false,
                  "_deepnote_index_column": 244
                },
                {
                  "INSTNM": false,
                  "TUITIONFEE_IN": false,
                  "_deepnote_index_column": 245
                },
                {
                  "INSTNM": false,
                  "TUITIONFEE_IN": true,
                  "_deepnote_index_column": 246
                },
                {
                  "INSTNM": false,
                  "TUITIONFEE_IN": false,
                  "_deepnote_index_column": 247
                },
                {
                  "INSTNM": false,
                  "TUITIONFEE_IN": false,
                  "_deepnote_index_column": 248
                },
                {
                  "INSTNM": false,
                  "TUITIONFEE_IN": true,
                  "_deepnote_index_column": 249
                }
              ],
              "rows_bottom": [
                {
                  "INSTNM": false,
                  "TUITIONFEE_IN": false,
                  "_deepnote_index_column": 6404
                },
                {
                  "INSTNM": false,
                  "TUITIONFEE_IN": false,
                  "_deepnote_index_column": 6405
                },
                {
                  "INSTNM": false,
                  "TUITIONFEE_IN": true,
                  "_deepnote_index_column": 6406
                },
                {
                  "INSTNM": false,
                  "TUITIONFEE_IN": true,
                  "_deepnote_index_column": 6407
                },
                {
                  "INSTNM": false,
                  "TUITIONFEE_IN": true,
                  "_deepnote_index_column": 6408
                },
                {
                  "INSTNM": false,
                  "TUITIONFEE_IN": true,
                  "_deepnote_index_column": 6409
                },
                {
                  "INSTNM": false,
                  "TUITIONFEE_IN": true,
                  "_deepnote_index_column": 6410
                },
                {
                  "INSTNM": false,
                  "TUITIONFEE_IN": true,
                  "_deepnote_index_column": 6411
                },
                {
                  "INSTNM": false,
                  "TUITIONFEE_IN": true,
                  "_deepnote_index_column": 6412
                },
                {
                  "INSTNM": false,
                  "TUITIONFEE_IN": true,
                  "_deepnote_index_column": 6413
                },
                {
                  "INSTNM": false,
                  "TUITIONFEE_IN": false,
                  "_deepnote_index_column": 6414
                },
                {
                  "INSTNM": false,
                  "TUITIONFEE_IN": true,
                  "_deepnote_index_column": 6415
                },
                {
                  "INSTNM": false,
                  "TUITIONFEE_IN": true,
                  "_deepnote_index_column": 6416
                },
                {
                  "INSTNM": false,
                  "TUITIONFEE_IN": true,
                  "_deepnote_index_column": 6417
                },
                {
                  "INSTNM": false,
                  "TUITIONFEE_IN": true,
                  "_deepnote_index_column": 6418
                },
                {
                  "INSTNM": false,
                  "TUITIONFEE_IN": true,
                  "_deepnote_index_column": 6419
                },
                {
                  "INSTNM": false,
                  "TUITIONFEE_IN": false,
                  "_deepnote_index_column": 6420
                },
                {
                  "INSTNM": false,
                  "TUITIONFEE_IN": false,
                  "_deepnote_index_column": 6421
                },
                {
                  "INSTNM": false,
                  "TUITIONFEE_IN": true,
                  "_deepnote_index_column": 6422
                },
                {
                  "INSTNM": false,
                  "TUITIONFEE_IN": true,
                  "_deepnote_index_column": 6423
                },
                {
                  "INSTNM": false,
                  "TUITIONFEE_IN": true,
                  "_deepnote_index_column": 6424
                },
                {
                  "INSTNM": false,
                  "TUITIONFEE_IN": true,
                  "_deepnote_index_column": 6425
                },
                {
                  "INSTNM": false,
                  "TUITIONFEE_IN": true,
                  "_deepnote_index_column": 6426
                },
                {
                  "INSTNM": false,
                  "TUITIONFEE_IN": true,
                  "_deepnote_index_column": 6427
                },
                {
                  "INSTNM": false,
                  "TUITIONFEE_IN": true,
                  "_deepnote_index_column": 6428
                },
                {
                  "INSTNM": false,
                  "TUITIONFEE_IN": false,
                  "_deepnote_index_column": 6429
                },
                {
                  "INSTNM": false,
                  "TUITIONFEE_IN": false,
                  "_deepnote_index_column": 6430
                },
                {
                  "INSTNM": false,
                  "TUITIONFEE_IN": false,
                  "_deepnote_index_column": 6431
                },
                {
                  "INSTNM": false,
                  "TUITIONFEE_IN": false,
                  "_deepnote_index_column": 6432
                },
                {
                  "INSTNM": false,
                  "TUITIONFEE_IN": true,
                  "_deepnote_index_column": 6433
                },
                {
                  "INSTNM": false,
                  "TUITIONFEE_IN": false,
                  "_deepnote_index_column": 6434
                },
                {
                  "INSTNM": false,
                  "TUITIONFEE_IN": true,
                  "_deepnote_index_column": 6435
                },
                {
                  "INSTNM": false,
                  "TUITIONFEE_IN": true,
                  "_deepnote_index_column": 6436
                },
                {
                  "INSTNM": false,
                  "TUITIONFEE_IN": false,
                  "_deepnote_index_column": 6437
                },
                {
                  "INSTNM": false,
                  "TUITIONFEE_IN": true,
                  "_deepnote_index_column": 6438
                },
                {
                  "INSTNM": false,
                  "TUITIONFEE_IN": true,
                  "_deepnote_index_column": 6439
                },
                {
                  "INSTNM": false,
                  "TUITIONFEE_IN": true,
                  "_deepnote_index_column": 6440
                },
                {
                  "INSTNM": false,
                  "TUITIONFEE_IN": true,
                  "_deepnote_index_column": 6441
                },
                {
                  "INSTNM": false,
                  "TUITIONFEE_IN": true,
                  "_deepnote_index_column": 6442
                },
                {
                  "INSTNM": false,
                  "TUITIONFEE_IN": true,
                  "_deepnote_index_column": 6443
                },
                {
                  "INSTNM": false,
                  "TUITIONFEE_IN": true,
                  "_deepnote_index_column": 6444
                },
                {
                  "INSTNM": false,
                  "TUITIONFEE_IN": true,
                  "_deepnote_index_column": 6445
                },
                {
                  "INSTNM": false,
                  "TUITIONFEE_IN": true,
                  "_deepnote_index_column": 6446
                },
                {
                  "INSTNM": false,
                  "TUITIONFEE_IN": true,
                  "_deepnote_index_column": 6447
                },
                {
                  "INSTNM": false,
                  "TUITIONFEE_IN": true,
                  "_deepnote_index_column": 6448
                },
                {
                  "INSTNM": false,
                  "TUITIONFEE_IN": true,
                  "_deepnote_index_column": 6449
                },
                {
                  "INSTNM": false,
                  "TUITIONFEE_IN": false,
                  "_deepnote_index_column": 6450
                },
                {
                  "INSTNM": false,
                  "TUITIONFEE_IN": true,
                  "_deepnote_index_column": 6451
                },
                {
                  "INSTNM": false,
                  "TUITIONFEE_IN": true,
                  "_deepnote_index_column": 6452
                },
                {
                  "INSTNM": false,
                  "TUITIONFEE_IN": true,
                  "_deepnote_index_column": 6453
                },
                {
                  "INSTNM": false,
                  "TUITIONFEE_IN": true,
                  "_deepnote_index_column": 6454
                },
                {
                  "INSTNM": false,
                  "TUITIONFEE_IN": true,
                  "_deepnote_index_column": 6455
                },
                {
                  "INSTNM": false,
                  "TUITIONFEE_IN": false,
                  "_deepnote_index_column": 6456
                },
                {
                  "INSTNM": false,
                  "TUITIONFEE_IN": true,
                  "_deepnote_index_column": 6457
                },
                {
                  "INSTNM": false,
                  "TUITIONFEE_IN": true,
                  "_deepnote_index_column": 6458
                },
                {
                  "INSTNM": false,
                  "TUITIONFEE_IN": true,
                  "_deepnote_index_column": 6459
                },
                {
                  "INSTNM": false,
                  "TUITIONFEE_IN": true,
                  "_deepnote_index_column": 6460
                },
                {
                  "INSTNM": false,
                  "TUITIONFEE_IN": true,
                  "_deepnote_index_column": 6461
                },
                {
                  "INSTNM": false,
                  "TUITIONFEE_IN": true,
                  "_deepnote_index_column": 6462
                },
                {
                  "INSTNM": false,
                  "TUITIONFEE_IN": true,
                  "_deepnote_index_column": 6463
                },
                {
                  "INSTNM": false,
                  "TUITIONFEE_IN": true,
                  "_deepnote_index_column": 6464
                },
                {
                  "INSTNM": false,
                  "TUITIONFEE_IN": true,
                  "_deepnote_index_column": 6465
                },
                {
                  "INSTNM": false,
                  "TUITIONFEE_IN": false,
                  "_deepnote_index_column": 6466
                },
                {
                  "INSTNM": false,
                  "TUITIONFEE_IN": false,
                  "_deepnote_index_column": 6467
                },
                {
                  "INSTNM": false,
                  "TUITIONFEE_IN": false,
                  "_deepnote_index_column": 6468
                },
                {
                  "INSTNM": false,
                  "TUITIONFEE_IN": false,
                  "_deepnote_index_column": 6469
                },
                {
                  "INSTNM": false,
                  "TUITIONFEE_IN": false,
                  "_deepnote_index_column": 6470
                },
                {
                  "INSTNM": false,
                  "TUITIONFEE_IN": true,
                  "_deepnote_index_column": 6471
                },
                {
                  "INSTNM": false,
                  "TUITIONFEE_IN": true,
                  "_deepnote_index_column": 6472
                },
                {
                  "INSTNM": false,
                  "TUITIONFEE_IN": true,
                  "_deepnote_index_column": 6473
                },
                {
                  "INSTNM": false,
                  "TUITIONFEE_IN": false,
                  "_deepnote_index_column": 6474
                },
                {
                  "INSTNM": false,
                  "TUITIONFEE_IN": true,
                  "_deepnote_index_column": 6475
                },
                {
                  "INSTNM": false,
                  "TUITIONFEE_IN": false,
                  "_deepnote_index_column": 6476
                },
                {
                  "INSTNM": false,
                  "TUITIONFEE_IN": true,
                  "_deepnote_index_column": 6477
                },
                {
                  "INSTNM": false,
                  "TUITIONFEE_IN": true,
                  "_deepnote_index_column": 6478
                },
                {
                  "INSTNM": false,
                  "TUITIONFEE_IN": true,
                  "_deepnote_index_column": 6479
                },
                {
                  "INSTNM": false,
                  "TUITIONFEE_IN": true,
                  "_deepnote_index_column": 6480
                },
                {
                  "INSTNM": false,
                  "TUITIONFEE_IN": true,
                  "_deepnote_index_column": 6481
                },
                {
                  "INSTNM": false,
                  "TUITIONFEE_IN": true,
                  "_deepnote_index_column": 6482
                },
                {
                  "INSTNM": false,
                  "TUITIONFEE_IN": true,
                  "_deepnote_index_column": 6483
                },
                {
                  "INSTNM": false,
                  "TUITIONFEE_IN": true,
                  "_deepnote_index_column": 6484
                },
                {
                  "INSTNM": false,
                  "TUITIONFEE_IN": true,
                  "_deepnote_index_column": 6485
                },
                {
                  "INSTNM": false,
                  "TUITIONFEE_IN": true,
                  "_deepnote_index_column": 6486
                },
                {
                  "INSTNM": false,
                  "TUITIONFEE_IN": true,
                  "_deepnote_index_column": 6487
                },
                {
                  "INSTNM": false,
                  "TUITIONFEE_IN": true,
                  "_deepnote_index_column": 6488
                },
                {
                  "INSTNM": false,
                  "TUITIONFEE_IN": true,
                  "_deepnote_index_column": 6489
                },
                {
                  "INSTNM": false,
                  "TUITIONFEE_IN": true,
                  "_deepnote_index_column": 6490
                },
                {
                  "INSTNM": false,
                  "TUITIONFEE_IN": true,
                  "_deepnote_index_column": 6491
                },
                {
                  "INSTNM": false,
                  "TUITIONFEE_IN": true,
                  "_deepnote_index_column": 6492
                },
                {
                  "INSTNM": false,
                  "TUITIONFEE_IN": true,
                  "_deepnote_index_column": 6493
                },
                {
                  "INSTNM": false,
                  "TUITIONFEE_IN": true,
                  "_deepnote_index_column": 6494
                },
                {
                  "INSTNM": false,
                  "TUITIONFEE_IN": true,
                  "_deepnote_index_column": 6495
                },
                {
                  "INSTNM": false,
                  "TUITIONFEE_IN": true,
                  "_deepnote_index_column": 6496
                },
                {
                  "INSTNM": false,
                  "TUITIONFEE_IN": true,
                  "_deepnote_index_column": 6497
                },
                {
                  "INSTNM": false,
                  "TUITIONFEE_IN": true,
                  "_deepnote_index_column": 6498
                },
                {
                  "INSTNM": false,
                  "TUITIONFEE_IN": true,
                  "_deepnote_index_column": 6499
                },
                {
                  "INSTNM": false,
                  "TUITIONFEE_IN": true,
                  "_deepnote_index_column": 6500
                },
                {
                  "INSTNM": false,
                  "TUITIONFEE_IN": true,
                  "_deepnote_index_column": 6501
                },
                {
                  "INSTNM": false,
                  "TUITIONFEE_IN": true,
                  "_deepnote_index_column": 6502
                },
                {
                  "INSTNM": false,
                  "TUITIONFEE_IN": true,
                  "_deepnote_index_column": 6503
                },
                {
                  "INSTNM": false,
                  "TUITIONFEE_IN": true,
                  "_deepnote_index_column": 6504
                },
                {
                  "INSTNM": false,
                  "TUITIONFEE_IN": true,
                  "_deepnote_index_column": 6505
                },
                {
                  "INSTNM": false,
                  "TUITIONFEE_IN": true,
                  "_deepnote_index_column": 6506
                },
                {
                  "INSTNM": false,
                  "TUITIONFEE_IN": false,
                  "_deepnote_index_column": 6507
                },
                {
                  "INSTNM": false,
                  "TUITIONFEE_IN": true,
                  "_deepnote_index_column": 6508
                },
                {
                  "INSTNM": false,
                  "TUITIONFEE_IN": true,
                  "_deepnote_index_column": 6509
                },
                {
                  "INSTNM": false,
                  "TUITIONFEE_IN": false,
                  "_deepnote_index_column": 6510
                },
                {
                  "INSTNM": false,
                  "TUITIONFEE_IN": true,
                  "_deepnote_index_column": 6511
                },
                {
                  "INSTNM": false,
                  "TUITIONFEE_IN": false,
                  "_deepnote_index_column": 6512
                },
                {
                  "INSTNM": false,
                  "TUITIONFEE_IN": false,
                  "_deepnote_index_column": 6513
                },
                {
                  "INSTNM": false,
                  "TUITIONFEE_IN": true,
                  "_deepnote_index_column": 6514
                },
                {
                  "INSTNM": false,
                  "TUITIONFEE_IN": true,
                  "_deepnote_index_column": 6515
                },
                {
                  "INSTNM": false,
                  "TUITIONFEE_IN": true,
                  "_deepnote_index_column": 6516
                },
                {
                  "INSTNM": false,
                  "TUITIONFEE_IN": true,
                  "_deepnote_index_column": 6517
                },
                {
                  "INSTNM": false,
                  "TUITIONFEE_IN": true,
                  "_deepnote_index_column": 6518
                },
                {
                  "INSTNM": false,
                  "TUITIONFEE_IN": false,
                  "_deepnote_index_column": 6519
                },
                {
                  "INSTNM": false,
                  "TUITIONFEE_IN": true,
                  "_deepnote_index_column": 6520
                },
                {
                  "INSTNM": false,
                  "TUITIONFEE_IN": true,
                  "_deepnote_index_column": 6521
                },
                {
                  "INSTNM": false,
                  "TUITIONFEE_IN": true,
                  "_deepnote_index_column": 6522
                },
                {
                  "INSTNM": false,
                  "TUITIONFEE_IN": true,
                  "_deepnote_index_column": 6523
                },
                {
                  "INSTNM": false,
                  "TUITIONFEE_IN": false,
                  "_deepnote_index_column": 6524
                },
                {
                  "INSTNM": false,
                  "TUITIONFEE_IN": true,
                  "_deepnote_index_column": 6525
                },
                {
                  "INSTNM": false,
                  "TUITIONFEE_IN": true,
                  "_deepnote_index_column": 6526
                },
                {
                  "INSTNM": false,
                  "TUITIONFEE_IN": true,
                  "_deepnote_index_column": 6527
                },
                {
                  "INSTNM": false,
                  "TUITIONFEE_IN": true,
                  "_deepnote_index_column": 6528
                },
                {
                  "INSTNM": false,
                  "TUITIONFEE_IN": true,
                  "_deepnote_index_column": 6529
                },
                {
                  "INSTNM": false,
                  "TUITIONFEE_IN": false,
                  "_deepnote_index_column": 6530
                },
                {
                  "INSTNM": false,
                  "TUITIONFEE_IN": true,
                  "_deepnote_index_column": 6531
                },
                {
                  "INSTNM": false,
                  "TUITIONFEE_IN": true,
                  "_deepnote_index_column": 6532
                },
                {
                  "INSTNM": false,
                  "TUITIONFEE_IN": true,
                  "_deepnote_index_column": 6533
                },
                {
                  "INSTNM": false,
                  "TUITIONFEE_IN": true,
                  "_deepnote_index_column": 6534
                },
                {
                  "INSTNM": false,
                  "TUITIONFEE_IN": false,
                  "_deepnote_index_column": 6535
                },
                {
                  "INSTNM": false,
                  "TUITIONFEE_IN": false,
                  "_deepnote_index_column": 6536
                },
                {
                  "INSTNM": false,
                  "TUITIONFEE_IN": false,
                  "_deepnote_index_column": 6537
                },
                {
                  "INSTNM": false,
                  "TUITIONFEE_IN": false,
                  "_deepnote_index_column": 6538
                },
                {
                  "INSTNM": false,
                  "TUITIONFEE_IN": true,
                  "_deepnote_index_column": 6539
                },
                {
                  "INSTNM": false,
                  "TUITIONFEE_IN": false,
                  "_deepnote_index_column": 6540
                },
                {
                  "INSTNM": false,
                  "TUITIONFEE_IN": false,
                  "_deepnote_index_column": 6541
                },
                {
                  "INSTNM": false,
                  "TUITIONFEE_IN": true,
                  "_deepnote_index_column": 6542
                },
                {
                  "INSTNM": false,
                  "TUITIONFEE_IN": true,
                  "_deepnote_index_column": 6543
                },
                {
                  "INSTNM": false,
                  "TUITIONFEE_IN": true,
                  "_deepnote_index_column": 6544
                },
                {
                  "INSTNM": false,
                  "TUITIONFEE_IN": true,
                  "_deepnote_index_column": 6545
                },
                {
                  "INSTNM": false,
                  "TUITIONFEE_IN": true,
                  "_deepnote_index_column": 6546
                },
                {
                  "INSTNM": false,
                  "TUITIONFEE_IN": true,
                  "_deepnote_index_column": 6547
                },
                {
                  "INSTNM": false,
                  "TUITIONFEE_IN": true,
                  "_deepnote_index_column": 6548
                },
                {
                  "INSTNM": false,
                  "TUITIONFEE_IN": true,
                  "_deepnote_index_column": 6549
                },
                {
                  "INSTNM": false,
                  "TUITIONFEE_IN": false,
                  "_deepnote_index_column": 6550
                },
                {
                  "INSTNM": false,
                  "TUITIONFEE_IN": false,
                  "_deepnote_index_column": 6551
                },
                {
                  "INSTNM": false,
                  "TUITIONFEE_IN": true,
                  "_deepnote_index_column": 6552
                },
                {
                  "INSTNM": false,
                  "TUITIONFEE_IN": true,
                  "_deepnote_index_column": 6553
                },
                {
                  "INSTNM": false,
                  "TUITIONFEE_IN": true,
                  "_deepnote_index_column": 6554
                },
                {
                  "INSTNM": false,
                  "TUITIONFEE_IN": true,
                  "_deepnote_index_column": 6555
                },
                {
                  "INSTNM": false,
                  "TUITIONFEE_IN": true,
                  "_deepnote_index_column": 6556
                },
                {
                  "INSTNM": false,
                  "TUITIONFEE_IN": false,
                  "_deepnote_index_column": 6557
                },
                {
                  "INSTNM": false,
                  "TUITIONFEE_IN": true,
                  "_deepnote_index_column": 6558
                },
                {
                  "INSTNM": false,
                  "TUITIONFEE_IN": true,
                  "_deepnote_index_column": 6559
                },
                {
                  "INSTNM": false,
                  "TUITIONFEE_IN": true,
                  "_deepnote_index_column": 6560
                },
                {
                  "INSTNM": false,
                  "TUITIONFEE_IN": true,
                  "_deepnote_index_column": 6561
                },
                {
                  "INSTNM": false,
                  "TUITIONFEE_IN": true,
                  "_deepnote_index_column": 6562
                },
                {
                  "INSTNM": false,
                  "TUITIONFEE_IN": true,
                  "_deepnote_index_column": 6563
                },
                {
                  "INSTNM": false,
                  "TUITIONFEE_IN": true,
                  "_deepnote_index_column": 6564
                },
                {
                  "INSTNM": false,
                  "TUITIONFEE_IN": true,
                  "_deepnote_index_column": 6565
                },
                {
                  "INSTNM": false,
                  "TUITIONFEE_IN": false,
                  "_deepnote_index_column": 6566
                },
                {
                  "INSTNM": false,
                  "TUITIONFEE_IN": true,
                  "_deepnote_index_column": 6567
                },
                {
                  "INSTNM": false,
                  "TUITIONFEE_IN": true,
                  "_deepnote_index_column": 6568
                },
                {
                  "INSTNM": false,
                  "TUITIONFEE_IN": true,
                  "_deepnote_index_column": 6569
                },
                {
                  "INSTNM": false,
                  "TUITIONFEE_IN": true,
                  "_deepnote_index_column": 6570
                },
                {
                  "INSTNM": false,
                  "TUITIONFEE_IN": true,
                  "_deepnote_index_column": 6571
                },
                {
                  "INSTNM": false,
                  "TUITIONFEE_IN": true,
                  "_deepnote_index_column": 6572
                },
                {
                  "INSTNM": false,
                  "TUITIONFEE_IN": true,
                  "_deepnote_index_column": 6573
                },
                {
                  "INSTNM": false,
                  "TUITIONFEE_IN": true,
                  "_deepnote_index_column": 6574
                },
                {
                  "INSTNM": false,
                  "TUITIONFEE_IN": true,
                  "_deepnote_index_column": 6575
                },
                {
                  "INSTNM": false,
                  "TUITIONFEE_IN": true,
                  "_deepnote_index_column": 6576
                },
                {
                  "INSTNM": false,
                  "TUITIONFEE_IN": true,
                  "_deepnote_index_column": 6577
                },
                {
                  "INSTNM": false,
                  "TUITIONFEE_IN": true,
                  "_deepnote_index_column": 6578
                },
                {
                  "INSTNM": false,
                  "TUITIONFEE_IN": true,
                  "_deepnote_index_column": 6579
                },
                {
                  "INSTNM": false,
                  "TUITIONFEE_IN": true,
                  "_deepnote_index_column": 6580
                },
                {
                  "INSTNM": false,
                  "TUITIONFEE_IN": false,
                  "_deepnote_index_column": 6581
                },
                {
                  "INSTNM": false,
                  "TUITIONFEE_IN": true,
                  "_deepnote_index_column": 6582
                },
                {
                  "INSTNM": false,
                  "TUITIONFEE_IN": true,
                  "_deepnote_index_column": 6583
                },
                {
                  "INSTNM": false,
                  "TUITIONFEE_IN": true,
                  "_deepnote_index_column": 6584
                },
                {
                  "INSTNM": false,
                  "TUITIONFEE_IN": true,
                  "_deepnote_index_column": 6585
                },
                {
                  "INSTNM": false,
                  "TUITIONFEE_IN": true,
                  "_deepnote_index_column": 6586
                },
                {
                  "INSTNM": false,
                  "TUITIONFEE_IN": true,
                  "_deepnote_index_column": 6587
                },
                {
                  "INSTNM": false,
                  "TUITIONFEE_IN": true,
                  "_deepnote_index_column": 6588
                },
                {
                  "INSTNM": false,
                  "TUITIONFEE_IN": true,
                  "_deepnote_index_column": 6589
                },
                {
                  "INSTNM": false,
                  "TUITIONFEE_IN": true,
                  "_deepnote_index_column": 6590
                },
                {
                  "INSTNM": false,
                  "TUITIONFEE_IN": false,
                  "_deepnote_index_column": 6591
                },
                {
                  "INSTNM": false,
                  "TUITIONFEE_IN": true,
                  "_deepnote_index_column": 6592
                },
                {
                  "INSTNM": false,
                  "TUITIONFEE_IN": true,
                  "_deepnote_index_column": 6593
                },
                {
                  "INSTNM": false,
                  "TUITIONFEE_IN": true,
                  "_deepnote_index_column": 6594
                },
                {
                  "INSTNM": false,
                  "TUITIONFEE_IN": true,
                  "_deepnote_index_column": 6595
                },
                {
                  "INSTNM": false,
                  "TUITIONFEE_IN": true,
                  "_deepnote_index_column": 6596
                },
                {
                  "INSTNM": false,
                  "TUITIONFEE_IN": true,
                  "_deepnote_index_column": 6597
                },
                {
                  "INSTNM": false,
                  "TUITIONFEE_IN": true,
                  "_deepnote_index_column": 6598
                },
                {
                  "INSTNM": false,
                  "TUITIONFEE_IN": true,
                  "_deepnote_index_column": 6599
                },
                {
                  "INSTNM": false,
                  "TUITIONFEE_IN": false,
                  "_deepnote_index_column": 6600
                },
                {
                  "INSTNM": false,
                  "TUITIONFEE_IN": false,
                  "_deepnote_index_column": 6601
                },
                {
                  "INSTNM": false,
                  "TUITIONFEE_IN": true,
                  "_deepnote_index_column": 6602
                },
                {
                  "INSTNM": false,
                  "TUITIONFEE_IN": true,
                  "_deepnote_index_column": 6603
                },
                {
                  "INSTNM": false,
                  "TUITIONFEE_IN": true,
                  "_deepnote_index_column": 6604
                },
                {
                  "INSTNM": false,
                  "TUITIONFEE_IN": true,
                  "_deepnote_index_column": 6605
                },
                {
                  "INSTNM": false,
                  "TUITIONFEE_IN": true,
                  "_deepnote_index_column": 6606
                },
                {
                  "INSTNM": false,
                  "TUITIONFEE_IN": true,
                  "_deepnote_index_column": 6607
                },
                {
                  "INSTNM": false,
                  "TUITIONFEE_IN": true,
                  "_deepnote_index_column": 6608
                },
                {
                  "INSTNM": false,
                  "TUITIONFEE_IN": true,
                  "_deepnote_index_column": 6609
                },
                {
                  "INSTNM": false,
                  "TUITIONFEE_IN": false,
                  "_deepnote_index_column": 6610
                },
                {
                  "INSTNM": false,
                  "TUITIONFEE_IN": false,
                  "_deepnote_index_column": 6611
                },
                {
                  "INSTNM": false,
                  "TUITIONFEE_IN": false,
                  "_deepnote_index_column": 6612
                },
                {
                  "INSTNM": false,
                  "TUITIONFEE_IN": true,
                  "_deepnote_index_column": 6613
                },
                {
                  "INSTNM": false,
                  "TUITIONFEE_IN": true,
                  "_deepnote_index_column": 6614
                },
                {
                  "INSTNM": false,
                  "TUITIONFEE_IN": true,
                  "_deepnote_index_column": 6615
                },
                {
                  "INSTNM": false,
                  "TUITIONFEE_IN": false,
                  "_deepnote_index_column": 6616
                },
                {
                  "INSTNM": false,
                  "TUITIONFEE_IN": true,
                  "_deepnote_index_column": 6617
                },
                {
                  "INSTNM": false,
                  "TUITIONFEE_IN": true,
                  "_deepnote_index_column": 6618
                },
                {
                  "INSTNM": false,
                  "TUITIONFEE_IN": true,
                  "_deepnote_index_column": 6619
                },
                {
                  "INSTNM": false,
                  "TUITIONFEE_IN": true,
                  "_deepnote_index_column": 6620
                },
                {
                  "INSTNM": false,
                  "TUITIONFEE_IN": true,
                  "_deepnote_index_column": 6621
                },
                {
                  "INSTNM": false,
                  "TUITIONFEE_IN": true,
                  "_deepnote_index_column": 6622
                },
                {
                  "INSTNM": false,
                  "TUITIONFEE_IN": true,
                  "_deepnote_index_column": 6623
                },
                {
                  "INSTNM": false,
                  "TUITIONFEE_IN": true,
                  "_deepnote_index_column": 6624
                },
                {
                  "INSTNM": false,
                  "TUITIONFEE_IN": true,
                  "_deepnote_index_column": 6625
                },
                {
                  "INSTNM": false,
                  "TUITIONFEE_IN": true,
                  "_deepnote_index_column": 6626
                },
                {
                  "INSTNM": false,
                  "TUITIONFEE_IN": true,
                  "_deepnote_index_column": 6627
                },
                {
                  "INSTNM": false,
                  "TUITIONFEE_IN": true,
                  "_deepnote_index_column": 6628
                },
                {
                  "INSTNM": false,
                  "TUITIONFEE_IN": false,
                  "_deepnote_index_column": 6629
                },
                {
                  "INSTNM": false,
                  "TUITIONFEE_IN": true,
                  "_deepnote_index_column": 6630
                },
                {
                  "INSTNM": false,
                  "TUITIONFEE_IN": false,
                  "_deepnote_index_column": 6631
                },
                {
                  "INSTNM": false,
                  "TUITIONFEE_IN": true,
                  "_deepnote_index_column": 6632
                },
                {
                  "INSTNM": false,
                  "TUITIONFEE_IN": true,
                  "_deepnote_index_column": 6633
                },
                {
                  "INSTNM": false,
                  "TUITIONFEE_IN": true,
                  "_deepnote_index_column": 6634
                },
                {
                  "INSTNM": false,
                  "TUITIONFEE_IN": false,
                  "_deepnote_index_column": 6635
                },
                {
                  "INSTNM": false,
                  "TUITIONFEE_IN": true,
                  "_deepnote_index_column": 6636
                },
                {
                  "INSTNM": false,
                  "TUITIONFEE_IN": false,
                  "_deepnote_index_column": 6637
                },
                {
                  "INSTNM": false,
                  "TUITIONFEE_IN": true,
                  "_deepnote_index_column": 6638
                },
                {
                  "INSTNM": false,
                  "TUITIONFEE_IN": true,
                  "_deepnote_index_column": 6639
                },
                {
                  "INSTNM": false,
                  "TUITIONFEE_IN": true,
                  "_deepnote_index_column": 6640
                },
                {
                  "INSTNM": false,
                  "TUITIONFEE_IN": false,
                  "_deepnote_index_column": 6641
                },
                {
                  "INSTNM": false,
                  "TUITIONFEE_IN": true,
                  "_deepnote_index_column": 6642
                },
                {
                  "INSTNM": false,
                  "TUITIONFEE_IN": true,
                  "_deepnote_index_column": 6643
                },
                {
                  "INSTNM": false,
                  "TUITIONFEE_IN": true,
                  "_deepnote_index_column": 6644
                },
                {
                  "INSTNM": false,
                  "TUITIONFEE_IN": true,
                  "_deepnote_index_column": 6645
                },
                {
                  "INSTNM": false,
                  "TUITIONFEE_IN": true,
                  "_deepnote_index_column": 6646
                },
                {
                  "INSTNM": false,
                  "TUITIONFEE_IN": false,
                  "_deepnote_index_column": 6647
                },
                {
                  "INSTNM": false,
                  "TUITIONFEE_IN": true,
                  "_deepnote_index_column": 6648
                },
                {
                  "INSTNM": false,
                  "TUITIONFEE_IN": false,
                  "_deepnote_index_column": 6649
                },
                {
                  "INSTNM": false,
                  "TUITIONFEE_IN": true,
                  "_deepnote_index_column": 6650
                },
                {
                  "INSTNM": false,
                  "TUITIONFEE_IN": true,
                  "_deepnote_index_column": 6651
                },
                {
                  "INSTNM": false,
                  "TUITIONFEE_IN": true,
                  "_deepnote_index_column": 6652
                },
                {
                  "INSTNM": false,
                  "TUITIONFEE_IN": false,
                  "_deepnote_index_column": 6653
                }
              ]
            },
            "text/plain": "      INSTNM  TUITIONFEE_IN\n0      False           True\n1      False          False\n2      False          False\n3      False           True\n4      False          False\n...      ...            ...\n6649   False          False\n6650   False           True\n6651   False           True\n6652   False           True\n6653   False          False\n\n[6654 rows x 2 columns]",
            "text/html": "<div>\n<style scoped>\n    .dataframe tbody tr th:only-of-type {\n        vertical-align: middle;\n    }\n\n    .dataframe tbody tr th {\n        vertical-align: top;\n    }\n\n    .dataframe thead th {\n        text-align: right;\n    }\n</style>\n<table border=\"1\" class=\"dataframe\">\n  <thead>\n    <tr style=\"text-align: right;\">\n      <th></th>\n      <th>INSTNM</th>\n      <th>TUITIONFEE_IN</th>\n    </tr>\n  </thead>\n  <tbody>\n    <tr>\n      <th>0</th>\n      <td>False</td>\n      <td>True</td>\n    </tr>\n    <tr>\n      <th>1</th>\n      <td>False</td>\n      <td>False</td>\n    </tr>\n    <tr>\n      <th>2</th>\n      <td>False</td>\n      <td>False</td>\n    </tr>\n    <tr>\n      <th>3</th>\n      <td>False</td>\n      <td>True</td>\n    </tr>\n    <tr>\n      <th>4</th>\n      <td>False</td>\n      <td>False</td>\n    </tr>\n    <tr>\n      <th>...</th>\n      <td>...</td>\n      <td>...</td>\n    </tr>\n    <tr>\n      <th>6649</th>\n      <td>False</td>\n      <td>False</td>\n    </tr>\n    <tr>\n      <th>6650</th>\n      <td>False</td>\n      <td>True</td>\n    </tr>\n    <tr>\n      <th>6651</th>\n      <td>False</td>\n      <td>True</td>\n    </tr>\n    <tr>\n      <th>6652</th>\n      <td>False</td>\n      <td>True</td>\n    </tr>\n    <tr>\n      <th>6653</th>\n      <td>False</td>\n      <td>False</td>\n    </tr>\n  </tbody>\n</table>\n<p>6654 rows × 2 columns</p>\n</div>"
          },
          "metadata": {}
        }
      ]
    },
    {
      "cell_type": "code",
      "metadata": {
        "id": "V0MTbBwv6oJW",
        "cell_id": "00006-c2e9d838-e3b1-4f2a-922d-269539ddeabe",
        "deepnote_to_be_reexecuted": false,
        "source_hash": "e3b9f7a2",
        "execution_millis": 7,
        "execution_start": 1618794280741,
        "deepnote_cell_type": "code"
      },
      "source": "# 6 - Drop those observations with missing value\n# Disaply the number of observations afterward\ndf = df.dropna()\ndf.info()",
      "execution_count": 88,
      "outputs": [
        {
          "name": "stdout",
          "text": "<class 'pandas.core.frame.DataFrame'>\nInt64Index: 3360 entries, 1 to 6653\nData columns (total 2 columns):\n #   Column         Non-Null Count  Dtype  \n---  ------         --------------  -----  \n 0   INSTNM         3360 non-null   object \n 1   TUITIONFEE_IN  3360 non-null   float64\ndtypes: float64(1), object(1)\nmemory usage: 78.8+ KB\n",
          "output_type": "stream"
        }
      ]
    },
    {
      "cell_type": "code",
      "metadata": {
        "id": "A-pfpASe6oJb",
        "cell_id": "00007-afda861f-2086-440d-b213-58f7a884e060",
        "deepnote_to_be_reexecuted": false,
        "source_hash": "a2b5f0cd",
        "execution_millis": 5,
        "execution_start": 1618794280743,
        "deepnote_cell_type": "code"
      },
      "source": "# 7 - Find out how many observations have 0 tution. \ndf[df.TUITIONFEE_IN == 0].info()",
      "execution_count": 89,
      "outputs": [
        {
          "name": "stdout",
          "text": "<class 'pandas.core.frame.DataFrame'>\nInt64Index: 9 entries, 291 to 4246\nData columns (total 2 columns):\n #   Column         Non-Null Count  Dtype  \n---  ------         --------------  -----  \n 0   INSTNM         9 non-null      object \n 1   TUITIONFEE_IN  9 non-null      float64\ndtypes: float64(1), object(1)\nmemory usage: 216.0+ bytes\n",
          "output_type": "stream"
        }
      ]
    },
    {
      "cell_type": "code",
      "metadata": {
        "id": "UUp2iUlM6oJk",
        "cell_id": "00008-4c757dde-6bdf-45a0-99f5-d0e214b5bd7f",
        "deepnote_to_be_reexecuted": false,
        "source_hash": "ad165bf4",
        "execution_millis": 32,
        "execution_start": 1618794280743,
        "deepnote_cell_type": "code"
      },
      "source": "# 8 - Drop those observations with 0 tuition\n# Disaply the number of observations afterward\ndf = df[df.TUITIONFEE_IN != 0]\ndf = df.reset_index(drop=True)\ndf.info()",
      "execution_count": 90,
      "outputs": [
        {
          "name": "stdout",
          "text": "<class 'pandas.core.frame.DataFrame'>\nRangeIndex: 3351 entries, 0 to 3350\nData columns (total 2 columns):\n #   Column         Non-Null Count  Dtype  \n---  ------         --------------  -----  \n 0   INSTNM         3351 non-null   object \n 1   TUITIONFEE_IN  3351 non-null   float64\ndtypes: float64(1), object(1)\nmemory usage: 52.5+ KB\n",
          "output_type": "stream"
        }
      ]
    },
    {
      "cell_type": "code",
      "metadata": {
        "id": "vXjrc9Km6oJq",
        "cell_id": "00009-070c3beb-3a9f-4ed9-b505-0372051b1030",
        "deepnote_to_be_reexecuted": false,
        "source_hash": "2fa56647",
        "execution_millis": 5,
        "execution_start": 1618794280770,
        "deepnote_cell_type": "code"
      },
      "source": "# 9 - Calculate and display the mean (average) of the tuitions of all the remaining observations \ntuition_mean = df.TUITIONFEE_IN.mean()\nprint(\"The mean (average) of the tuitions of all the remaining observations: \",tuition_mean)",
      "execution_count": 91,
      "outputs": [
        {
          "name": "stdout",
          "text": "The mean (average) of the tuitions of all the remaining observations:  6814.479856759176\n",
          "output_type": "stream"
        }
      ]
    },
    {
      "cell_type": "code",
      "metadata": {
        "id": "Yyk1Kx456oJv",
        "cell_id": "00010-cb7e88a5-b4f6-4a90-b7dc-f58950d450e0",
        "deepnote_to_be_reexecuted": false,
        "source_hash": "bc7706d8",
        "execution_millis": 5,
        "execution_start": 1618794280770,
        "deepnote_cell_type": "code"
      },
      "source": "# 10 - Randomly select just 1 observation from the data frame.\n# Display the tuition of that observation. \nrandom_obs = df.sample()\nprint(random_obs)\nprint('The tuition fee: ',float(random_obs['TUITIONFEE_IN']))",
      "execution_count": 92,
      "outputs": [
        {
          "name": "stdout",
          "text": "                          INSTNM  TUITIONFEE_IN\n2015  Baldwin Wallace University        15340.0\nThe tuition fee:  15340.0\n",
          "output_type": "stream"
        }
      ]
    },
    {
      "cell_type": "code",
      "metadata": {
        "id": "2Jio5eDc6oJ0",
        "cell_id": "00011-091a8367-9bb7-4104-9bc4-7e5a6ec7de09",
        "deepnote_to_be_reexecuted": false,
        "source_hash": "9af4cef9",
        "execution_millis": 6,
        "execution_start": 1618794280954,
        "deepnote_cell_type": "code"
      },
      "source": "# 11 - Calculate the different between the tuition of this observation and \n# the mean tuition off all observations calculated earlier.\n# Display the difference\ndifference = float(random_obs['TUITIONFEE_IN']) - tuition_mean\nprint('The difference between the random tuition and average of all: ',difference)",
      "execution_count": 93,
      "outputs": [
        {
          "name": "stdout",
          "text": "The difference between the random tuition and average of all:  8525.520143240825\n",
          "output_type": "stream"
        }
      ]
    },
    {
      "cell_type": "code",
      "source": "# 12 - Repeat 10 to 11 several times get the feel of the size of the difference in means\nrandom_obs = df.sample()\nprint(random_obs)\nprint('The tuition fee: ',float(random_obs['TUITIONFEE_IN']))\ndifference = float(random_obs['TUITIONFEE_IN']) - tuition_mean\nprint('The difference between the random tuition and average of all: ',difference)",
      "metadata": {
        "tags": [],
        "cell_id": "00013-f809c218-01cb-4547-8ec3-f4295e421ab9",
        "deepnote_to_be_reexecuted": false,
        "source_hash": "bcb195eb",
        "execution_millis": 36,
        "execution_start": 1618794966724,
        "deepnote_cell_type": "code"
      },
      "outputs": [
        {
          "name": "stdout",
          "text": "                           INSTNM  TUITIONFEE_IN\n1387  Vermilion Community College         2574.0\nThe tuition fee:  2574.0\nThe difference between the random tuition and average of all:  -4240.479856759176\n",
          "output_type": "stream"
        }
      ],
      "execution_count": 124
    },
    {
      "cell_type": "code",
      "metadata": {
        "id": "X7P4DGbi6oJ-",
        "cell_id": "00013-15860a53-ef4f-40c7-91c1-61d309d7e6bd",
        "deepnote_to_be_reexecuted": false,
        "source_hash": "f38d81aa",
        "execution_millis": 1,
        "execution_start": 1618794281589,
        "deepnote_cell_type": "code"
      },
      "source": "# 13 - Randomly select 20 observations, display the tuition of these observation. \ndf_20 = df.sample(20)\ndf_20 = df_20.reset_index(drop=True)",
      "execution_count": 95,
      "outputs": []
    },
    {
      "cell_type": "code",
      "metadata": {
        "id": "2kvz1whj6oKA",
        "cell_id": "00014-2541e381-6dcd-4aa6-86b0-374d9abf00f1",
        "deepnote_to_be_reexecuted": false,
        "source_hash": "a621396b",
        "execution_millis": 5,
        "execution_start": 1618794281590,
        "deepnote_cell_type": "code"
      },
      "source": " # 14 - Calculate and displat the mean tuition of these 20 observations\nsample_20_mean = df_20['TUITIONFEE_IN'].mean()\nprint(sample_20_mean)",
      "execution_count": 96,
      "outputs": [
        {
          "name": "stdout",
          "text": "7312.35\n",
          "output_type": "stream"
        }
      ]
    },
    {
      "cell_type": "code",
      "metadata": {
        "id": "7qZe_Xn-6oKE",
        "cell_id": "00015-1b1e2343-b3a8-4c01-bb7f-59b82e11ff62",
        "deepnote_to_be_reexecuted": false,
        "source_hash": "7066b63",
        "execution_millis": 7,
        "execution_start": 1618794281838,
        "deepnote_cell_type": "code"
      },
      "source": "# 15 - Calculate  the different between the average tuition of these 20 observations \n# and the mean tuition off all observations calculated earlier.\n# Display the difference\ndf_20_difference = sample_20_mean - tuition_mean\nprint(\"The difference between the average tuition of 20 obs and mean tuition of all obs: \", df_20_difference)",
      "execution_count": 97,
      "outputs": [
        {
          "name": "stdout",
          "text": "The difference between the average tuition of 20 obs and mean tuition of all obs:  497.8701432408243\n",
          "output_type": "stream"
        }
      ]
    },
    {
      "cell_type": "code",
      "metadata": {
        "id": "V7xgI6GU6oKH",
        "cell_id": "00016-eda9e421-77c1-4173-a962-500eb978c9d3",
        "deepnote_to_be_reexecuted": false,
        "source_hash": "10ecc84c",
        "execution_millis": 30,
        "execution_start": 1618794976617,
        "deepnote_cell_type": "code"
      },
      "source": "# 16 - Repeat 13 to 15 several times and get the feel of the size of the difference in means \n# Compare these differences with the differences calculated earlier with just 1 observation\n# Describe your hunch/conclusion\ndf_20 = df.sample(20)\ndf_20 = df_20.reset_index(drop=True)\nsample_20_mean = df_20['TUITIONFEE_IN'].mean()\ndf_20_difference = sample_20_mean - tuition_mean\nprint(\"The difference between the average tuition of 20 obs and mean tuition of all obs: \", df_20_difference)",
      "execution_count": 128,
      "outputs": [
        {
          "name": "stdout",
          "text": "The difference between the average tuition of 20 obs and mean tuition of all obs:  2171.7201432408247\n",
          "output_type": "stream"
        }
      ]
    },
    {
      "cell_type": "markdown",
      "source": "> From the above, through comparison we can see that for the sample of 20, the difference in mean differences is much less compared to that of single samples which is arbitary",
      "metadata": {
        "tags": [],
        "cell_id": "00018-bff9e9e4-73e8-429b-bca4-0ad8e7861377",
        "deepnote_cell_type": "markdown"
      }
    },
    {
      "cell_type": "markdown",
      "source": "Write a function that take two input parameters:\n- x (number of observations) \n- y (the name of the dataframe). \n\nThe function will perform the following: \n- Randomly select x observations from y\n- Calculate the mean of these x observations \n- Calculate the mean of all observations\n- Calculate the difference between the two means \n- Return the difference",
      "metadata": {
        "id": "0i4lLySc6oKK",
        "cell_id": "00017-411a7805-8223-4781-a284-af8fdd7f06f1",
        "deepnote_cell_type": "markdown"
      }
    },
    {
      "cell_type": "code",
      "metadata": {
        "id": "ZblkuSq46oKL",
        "cell_id": "00018-0151dc65-7adb-4d46-8d47-7ba0a5cb9da5",
        "deepnote_to_be_reexecuted": false,
        "source_hash": "8e3f7ec1",
        "execution_millis": 1,
        "execution_start": 1618795187073,
        "deepnote_cell_type": "code"
      },
      "source": "# 17 - write function Code here\ndef get_diff(x,y):\n    \"\"\"\n    This func takes 2 arguments,\n    x: sample size,\n    y: dataframe\n    and returns mean diff between sample and all\n    \"\"\"\n    df_func = y.sample(x)\n    df_func_mean = df_func['TUITIONFEE_IN'].mean()\n    df_mean = y['TUITIONFEE_IN'].mean()\n    df_diff = df_mean-df_func_mean\n    return df_diff",
      "execution_count": 129,
      "outputs": []
    },
    {
      "cell_type": "code",
      "metadata": {
        "id": "rCtsaGCy6oKN",
        "cell_id": "00019-70dec934-b894-49c2-8eae-141a549b74c8",
        "deepnote_to_be_reexecuted": false,
        "source_hash": "cc165e0a",
        "execution_millis": 17,
        "execution_start": 1618794282665,
        "deepnote_cell_type": "code"
      },
      "source": "# 18 - test the function by passing a sample size and the name of the dataframe\n# Dsplay the return of the function\nx = get_diff(20, df)\nprint(x)",
      "execution_count": 100,
      "outputs": [
        {
          "name": "stdout",
          "text": "2802.429856759176\n",
          "output_type": "stream"
        }
      ]
    },
    {
      "cell_type": "code",
      "metadata": {
        "id": "0I58wyGH6oKP",
        "cell_id": "00020-bef288b1-3867-4d8e-ab5f-42b1101a4e3b",
        "deepnote_to_be_reexecuted": false,
        "source_hash": "9064b621",
        "execution_millis": 8,
        "execution_start": 1618794282916,
        "deepnote_cell_type": "code"
      },
      "source": "# 19 - Create a list of sequence numbers from 1 to 50, name it \"sample_sizes\";\n# display it to make sure its members are from 1 to 50\nsample_sizes = [i for i in range(1,51)]",
      "execution_count": 101,
      "outputs": []
    },
    {
      "cell_type": "code",
      "metadata": {
        "id": "sBWwbejh6oKR",
        "cell_id": "00021-26a831fd-f814-4fa0-a0ed-8c11a49f5aa5",
        "deepnote_to_be_reexecuted": false,
        "source_hash": "91d69780",
        "execution_millis": 61,
        "execution_start": 1618794283188,
        "deepnote_cell_type": "code"
      },
      "source": "# 20 - Create an empty list and name it \"means_diff\" for differences of population mean and sample means;\n# Loop through the list sample_sizes:\n# For each element in the sample size list, obtain a random sample of that size from the data frame;\n# Calculate the sample mean \n# Calculate the difference between the population mean and the sample mean\n# Append the difference to the list \"means_diff\"\n# Display the list \"means_diff\" after the loop is completed\nmeans_diff = []\nfor i in sample_sizes:\n    x = get_diff(i, df)\n    means_diff.append(x)\nmeans_diff",
      "execution_count": 102,
      "outputs": [
        {
          "output_type": "execute_result",
          "execution_count": 102,
          "data": {
            "text/plain": "[5794.479856759176,\n 5899.479856759176,\n -670.1868099074909,\n 1031.729856759176,\n -383.72014324082375,\n -399.6868099074909,\n 727.622713902033,\n -1822.145143240824,\n 2063.0354123147317,\n -1222.4201432408236,\n 1607.752584031903,\n -1947.1034765741579,\n -2871.8278355485154,\n -2341.163000383681,\n 944.5465234258427,\n -2984.895143240824,\n -736.4024961820005,\n 1140.5354123147317,\n 1851.164067285492,\n -67.17014324082356,\n 18.00366628298525,\n 1218.888947668267,\n -76.3462301973459,\n 730.4381900925091,\n -411.3201432408241,\n 580.9798567591761,\n 1526.0724493517682,\n 830.3369996163192,\n 327.5833050350384,\n -846.353476574157,\n 1151.6411470817566,\n -388.6763932408239,\n -1724.0352947559759,\n -917.6377902996473,\n 578.1084281877474,\n -2542.2979210186013,\n 673.3447216240411,\n 621.7166988644394,\n -472.62270734338836,\n -824.1701432408236,\n -115.37380177740943,\n 196.90842818774763,\n 342.177531177781,\n -782.4974159680969,\n 1365.7687456480653,\n 542.6320306722191,\n 519.4373035676863,\n 725.6673567591761,\n 990.3574077795838,\n 133.91985675917567]"
          },
          "metadata": {}
        }
      ]
    },
    {
      "cell_type": "code",
      "metadata": {
        "id": "CZxUYK6b6oKU",
        "cell_id": "00022-aecfe3a9-2a6d-40d2-b48f-694d87a96bb8",
        "deepnote_to_be_reexecuted": false,
        "source_hash": "72e12784",
        "execution_millis": 284,
        "execution_start": 1618794283426,
        "deepnote_cell_type": "code"
      },
      "source": "# 21 - Make a scatter plot with sample size on the x-axs and  mean difference on the y-axis\n# Observe as the sample size increases, the sample means converge to the population mean.\n# Make sure you make the plot large enough\n\nplt.figure(figsize=(20,8))\nplt.grid()\nplt.scatter(x=sample_sizes,y=means_diff)\nplt.xlabel('Sample Size')\nplt.ylabel('Mean Difference of Tuition Fee_Instate')\nplt.title(\"Scatter plot of each mean difference of tuition fee V/S Sample size\")",
      "execution_count": 103,
      "outputs": [
        {
          "output_type": "execute_result",
          "execution_count": 103,
          "data": {
            "text/plain": "Text(0.5, 1.0, 'Scatter plot of each mean difference of tuition fee V/S Sample size')"
          },
          "metadata": {}
        },
        {
          "data": {
            "text/plain": "<Figure size 1440x576 with 1 Axes>",
            "image/png": "[encoded data removed]"
          },
          "metadata": {
            "needs_background": "light"
          },
          "output_type": "display_data"
        }
      ]
    },
    {
      "cell_type": "code",
      "metadata": {
        "id": "tD8z_VyB6oKW",
        "cell_id": "00023-92a01102-6eba-4e7e-a871-865d382f4aa9",
        "deepnote_to_be_reexecuted": false,
        "source_hash": "522b01ff",
        "execution_millis": 580,
        "execution_start": 1618794283717,
        "deepnote_cell_type": "code"
      },
      "source": "# 22 - repeat 18 to 21 by replacing 50 with a larger number. For example, 300, or even 1000.\n# and see how the plot looks.\n\n# For sample size of 300 values\nsample_sizes = [i for i in range(1,300)]\nmeans_diff = []\nfor i in sample_sizes:\n    x = get_diff(i, df)\n    means_diff.append(x)\nplt.figure(figsize=(20,8))\nplt.grid()\nplt.scatter(x=sample_sizes,y=means_diff)\nplt.xlabel('Sample Size')\nplt.ylabel('Mean Difference of Tuition Fee_Instate')\nplt.title(\"Scatter plot of each mean difference of tuition fee V/S Sample size\")",
      "execution_count": 104,
      "outputs": [
        {
          "output_type": "execute_result",
          "execution_count": 104,
          "data": {
            "text/plain": "Text(0.5, 1.0, 'Scatter plot of each mean difference of tuition fee V/S Sample size')"
          },
          "metadata": {}
        },
        {
          "data": {
            "text/plain": "<Figure size 1440x576 with 1 Axes>",
            "image/png": "[encoded data removed]"
          },
          "metadata": {
            "needs_background": "light"
          },
          "output_type": "display_data"
        }
      ]
    },
    {
      "cell_type": "code",
      "source": "# For Sample size of 1000 values\nsample_sizes = [i for i in range(1,1000)]\nmeans_diff = []\nfor i in sample_sizes:\n    x = get_diff(i, df)\n    means_diff.append(x)\nplt.figure(figsize=(20,8))\nplt.grid()\nplt.scatter(x=sample_sizes,y=means_diff)\nplt.xlabel('Sample Size')\nplt.ylabel('Mean Difference of Tuition Fee_Instate')\nplt.title(\"Scatter plot of each mean difference of tuition fee V/S Sample size\")",
      "metadata": {
        "tags": [],
        "cell_id": "00025-54e0ceb8-fc1c-44a7-b0c9-3f4039f538a8",
        "deepnote_to_be_reexecuted": false,
        "source_hash": "77811d01",
        "execution_millis": 1140,
        "execution_start": 1618794284301,
        "deepnote_cell_type": "code"
      },
      "outputs": [
        {
          "output_type": "execute_result",
          "execution_count": 105,
          "data": {
            "text/plain": "Text(0.5, 1.0, 'Scatter plot of each mean difference of tuition fee V/S Sample size')"
          },
          "metadata": {}
        },
        {
          "data": {
            "text/plain": "<Figure size 1440x576 with 1 Axes>",
            "image/png": "[encoded data removed]"
          },
          "metadata": {
            "needs_background": "light"
          },
          "output_type": "display_data"
        }
      ],
      "execution_count": 105
    },
    {
      "cell_type": "markdown",
      "source": "> From the above plots, we can find that as the sample size increases, the sample means converge to the population mean.",
      "metadata": {
        "tags": [],
        "cell_id": "00027-3325b809-9405-4b55-bca2-6bd5bc292cac",
        "deepnote_cell_type": "markdown"
      }
    },
    {
      "cell_type": "code",
      "metadata": {
        "id": "MjqbewGC6oKZ",
        "cell_id": "00024-656222df-e74e-4896-b453-f067f6096a09",
        "deepnote_to_be_reexecuted": false,
        "source_hash": "762c9ac",
        "execution_millis": 1,
        "execution_start": 1618795428849,
        "deepnote_cell_type": "code"
      },
      "source": "# The end - Give yourself a pat on the back!",
      "execution_count": 130,
      "outputs": []
    },
    {
      "cell_type": "code",
      "source": "",
      "metadata": {
        "tags": [],
        "cell_id": "00029-7415a704-726e-4e58-8c10-096843ada0dc",
        "deepnote_cell_type": "code"
      },
      "outputs": [],
      "execution_count": null
    },
    {
      "cell_type": "markdown",
      "source": "<a style='text-decoration:none;line-height:16px;display:flex;color:#5B5B62;padding:10px;justify-content:end;' href='https://deepnote.com?utm_source=created-in-deepnote-cell&projectId=a7227b02-08d1-400a-9400-776dfd1c9522' target=\"_blank\">\n<img alt='Created in deepnote.com' style='display:inline;max-height:16px;margin:0px;margin-right:7.5px;' src='data:image/svg+xml;base64,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' > </img>\nCreated in <span style='font-weight:600;margin-left:4px;'>Deepnote</span></a>",
      "metadata": {
        "tags": [],
        "created_in_deepnote_cell": true,
        "deepnote_cell_type": "markdown"
      }
    }
  ],
  "nbformat": 4,
  "nbformat_minor": 0,
  "metadata": {
    "kernelspec": {
      "display_name": "Python 3",
      "language": "python",
      "name": "python3"
    },
    "language_info": {
      "codemirror_mode": {
        "name": "ipython",
        "version": 3
      },
      "file_extension": ".py",
      "mimetype": "text/x-python",
      "name": "python",
      "nbconvert_exporter": "python",
      "pygments_lexer": "ipython3",
      "version": "3.7.4"
    },
    "colab": {
      "name": "Copy of assignment_08.ipynb.txt",
      "provenance": [],
      "toc_visible": true
    },
    "deepnote_notebook_id": "6928a7ec-1ff6-4ae1-8789-aaca4b4b6492",
    "deepnote": {},
    "deepnote_execution_queue": []
  }
}