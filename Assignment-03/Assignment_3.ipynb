{
  "nbformat": 4,
  "nbformat_minor": 0,
  "metadata": {
    "colab": {
      "name": "Assignment_3.ipynb",
      "provenance": [],
      "collapsed_sections": []
    },
    "kernelspec": {
      "name": "python3",
      "display_name": "Python 3"
    }
  },
  "cells": [
    {
      "cell_type": "markdown",
      "metadata": {
        "id": "zMt5CybYLvia"
      },
      "source": [
        "# Write a program that generates 100 random integers between 0 and 9.\r\n",
        "1. Print them in a 10 by 10 matrix neatly arranged like the following (one space between each number):"
      ]
    },
    {
      "cell_type": "code",
      "metadata": {
        "id": "q5rOftPERvJU"
      },
      "source": [
        "# importing required library \"random\" for random integer generation\r\n",
        "import random"
      ],
      "execution_count": 20,
      "outputs": []
    },
    {
      "cell_type": "code",
      "metadata": {
        "colab": {
          "base_uri": "https://localhost:8080/"
        },
        "id": "Cp-AOFMFRzcQ",
        "outputId": "bbcb05f5-5eff-4448-de89-032959713fb4"
      },
      "source": [
        "# Nested for loop for 10*10 matrix\r\n",
        "for i in range(10):\r\n",
        "    for j in range(10):\r\n",
        "        k = random.randint(0,9) # randint generates random integers in specified range\r\n",
        "        print(k, end = ' ')\r\n",
        "    print()"
      ],
      "execution_count": 21,
      "outputs": [
        {
          "output_type": "stream",
          "text": [
            "6 0 9 2 4 0 5 0 6 7 \n",
            "4 8 9 5 2 8 8 8 9 3 \n",
            "0 4 6 6 6 9 5 4 4 2 \n",
            "1 8 0 4 4 8 3 0 3 8 \n",
            "3 4 9 2 2 0 7 6 1 3 \n",
            "1 7 1 2 6 3 3 3 7 0 \n",
            "7 5 2 2 8 3 1 5 8 9 \n",
            "3 1 8 6 4 3 6 3 6 5 \n",
            "6 2 1 2 1 7 9 5 0 4 \n",
            "9 0 9 6 6 8 0 2 1 0 \n"
          ],
          "name": "stdout"
        }
      ]
    },
    {
      "cell_type": "markdown",
      "metadata": {
        "id": "R6wGt7u9MA-4"
      },
      "source": [
        "2. If the random number is an odd number, print \"@\" instead. like the following:"
      ]
    },
    {
      "cell_type": "code",
      "metadata": {
        "colab": {
          "base_uri": "https://localhost:8080/"
        },
        "id": "i7olqf-tTBd_",
        "outputId": "22f33b70-8f86-4cb4-af7d-4267ee22dfbf"
      },
      "source": [
        "for i in range(10):\r\n",
        "    for j in range(10):\r\n",
        "        k = random.randint(0,9)\r\n",
        "        print(k if k%2 == 0 else '@', end = ' ') #Printing \"@\" in place of odd numbers\r\n",
        "    print()"
      ],
      "execution_count": 22,
      "outputs": [
        {
          "output_type": "stream",
          "text": [
            "@ @ @ @ 0 6 @ 4 2 8 \n",
            "@ @ @ @ 0 2 @ @ 2 @ \n",
            "@ @ @ @ @ 0 8 @ 2 2 \n",
            "4 @ @ 4 0 @ 4 @ @ @ \n",
            "2 @ @ 4 @ 4 @ 6 6 6 \n",
            "0 0 0 6 6 2 @ 0 4 @ \n",
            "@ 2 @ @ 8 @ 8 6 @ 0 \n",
            "6 @ 6 @ 2 @ @ @ @ @ \n",
            "@ @ 4 @ 0 4 @ 2 @ @ \n",
            "@ @ @ 0 0 4 4 @ @ @ \n"
          ],
          "name": "stdout"
        }
      ]
    },
    {
      "cell_type": "markdown",
      "metadata": {
        "id": "xSwMkXQIMDZh"
      },
      "source": [
        "3. Calculate and Print the total of each row like the following (use \"*\" to separate the total from the numbers):"
      ]
    },
    {
      "cell_type": "code",
      "metadata": {
        "id": "_hdSdlkT3FwN",
        "colab": {
          "base_uri": "https://localhost:8080/"
        },
        "outputId": "a8398d5e-4e90-4925-ad6c-8ac8201cca11"
      },
      "source": [
        "for i in range(10):\r\n",
        "    add = 0 #Setting add to zero for every row\r\n",
        "    for j in range(10):\r\n",
        "        k = random.randint(0,9)\r\n",
        "        print(k, end = ' ')\r\n",
        "        add = add+k #Adding each row integers\r\n",
        "    print(\"* \" + str(add))"
      ],
      "execution_count": 23,
      "outputs": [
        {
          "output_type": "stream",
          "text": [
            "7 6 1 6 9 1 9 9 5 1 * 54\n",
            "5 0 4 9 8 2 8 5 1 0 * 42\n",
            "3 7 9 6 9 0 2 0 5 0 * 41\n",
            "3 6 6 5 2 4 8 7 0 8 * 49\n",
            "3 4 4 6 0 0 6 3 0 9 * 35\n",
            "5 6 6 3 5 3 3 1 2 3 * 37\n",
            "7 8 3 3 6 3 4 2 6 8 * 50\n",
            "3 0 8 2 2 0 5 8 1 8 * 37\n",
            "1 8 9 9 9 0 3 3 9 4 * 55\n",
            "2 5 8 9 0 4 5 1 7 1 * 42\n"
          ],
          "name": "stdout"
        }
      ]
    },
    {
      "cell_type": "markdown",
      "metadata": {
        "id": "tjInkvv8MHKj"
      },
      "source": [
        "4. Optional: Surround the matrix with asterisks (*) like the following:"
      ]
    },
    {
      "cell_type": "code",
      "metadata": {
        "colab": {
          "base_uri": "https://localhost:8080/"
        },
        "id": "K5z1Hg2nGasj",
        "outputId": "2915fff6-0659-4673-9549-f3fc02445dbc"
      },
      "source": [
        "print(\"***********************\")\r\n",
        "for i in range(10):\r\n",
        "    print(\"*\", end=' ') #generating the \"*\" pattern\r\n",
        "    for j in range(10):\r\n",
        "        k = random.randint(0,9)\r\n",
        "        print(k, end = ' ')\r\n",
        "    print(\"*\")\r\n",
        "print(\"***********************\")"
      ],
      "execution_count": 19,
      "outputs": [
        {
          "output_type": "stream",
          "text": [
            "***********************\n",
            "* 7 0 8 1 6 3 8 4 7 6 *\n",
            "* 6 9 2 7 5 2 1 1 3 5 *\n",
            "* 7 5 7 2 0 0 0 3 1 0 *\n",
            "* 4 3 1 5 6 1 4 2 6 2 *\n",
            "* 8 9 4 7 7 5 6 1 0 3 *\n",
            "* 1 1 1 0 9 4 0 4 6 3 *\n",
            "* 0 2 9 6 8 1 0 3 3 0 *\n",
            "* 6 3 1 6 3 6 0 6 1 2 *\n",
            "* 1 2 3 0 8 4 2 0 5 5 *\n",
            "* 2 4 5 9 9 2 1 5 6 2 *\n",
            "***********************\n"
          ],
          "name": "stdout"
        }
      ]
    },
    {
      "cell_type": "code",
      "metadata": {
        "id": "FvWC2IoDKmYG"
      },
      "source": [
        ""
      ],
      "execution_count": null,
      "outputs": []
    }
  ]
}