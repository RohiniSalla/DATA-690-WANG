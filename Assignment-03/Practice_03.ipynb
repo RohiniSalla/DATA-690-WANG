{
  "nbformat": 4,
  "nbformat_minor": 0,
  "metadata": {
    "colab": {
      "name": "Practice_03.ipynb",
      "provenance": [],
      "collapsed_sections": []
    },
    "kernelspec": {
      "name": "python3",
      "display_name": "Python 3"
    }
  },
  "cells": [
    {
      "cell_type": "markdown",
      "metadata": {
        "id": "zMt5CybYLvia"
      },
      "source": [
        "# Write a program that generates 100 random integers between 0 and 9.\r\n"
      ]
    },
    {
      "cell_type": "code",
      "metadata": {
        "id": "q5rOftPERvJU"
      },
      "source": [
        "# importing required library \"random\" for random integer generation\r\n",
        "import random"
      ],
      "execution_count": 5,
      "outputs": []
    },
    {
      "cell_type": "markdown",
      "metadata": {
        "id": "ef8LXuUyrP35"
      },
      "source": [
        "##Print 10 by 10 matrix"
      ]
    },
    {
      "cell_type": "code",
      "metadata": {
        "colab": {
          "base_uri": "https://localhost:8080/"
        },
        "id": "Cp-AOFMFRzcQ",
        "outputId": "c6f9829f-33f4-41e1-cf7b-cc8ea550b8fd"
      },
      "source": [
        "\r\n",
        "## Nested for loop for 10*10 matrix\r\n",
        "for i in range(10):\r\n",
        "    for j in range(10):\r\n",
        "        k = random.randint(0,9) # randint generates random integers in specified range\r\n",
        "        print(k, end = ' ')\r\n",
        "    print()"
      ],
      "execution_count": 6,
      "outputs": [
        {
          "output_type": "stream",
          "text": [
            "4 6 4 0 4 3 8 2 1 3 \n",
            "8 4 3 4 0 9 5 7 8 5 \n",
            "0 1 7 8 2 8 2 7 4 0 \n",
            "2 3 6 0 3 0 1 8 2 1 \n",
            "2 0 7 0 6 9 7 0 9 6 \n",
            "7 9 1 4 0 2 9 1 3 4 \n",
            "6 6 8 0 6 8 3 5 1 5 \n",
            "6 2 8 4 4 6 1 0 0 8 \n",
            "7 6 7 3 6 7 6 5 7 7 \n",
            "2 4 6 7 6 9 3 8 8 1 \n"
          ],
          "name": "stdout"
        }
      ]
    },
    {
      "cell_type": "markdown",
      "metadata": {
        "id": "R6wGt7u9MA-4"
      },
      "source": [
        "##If the random number is an odd number, print \"@\" instead"
      ]
    },
    {
      "cell_type": "code",
      "metadata": {
        "colab": {
          "base_uri": "https://localhost:8080/"
        },
        "id": "i7olqf-tTBd_",
        "outputId": "07a27022-517f-48f8-ecbc-108f64a652d2"
      },
      "source": [
        "\r\n",
        "for i in range(10):\r\n",
        "    for j in range(10):\r\n",
        "        k = random.randint(0,9)\r\n",
        "        print(k if k%2 == 0 else '@', end = ' ') #Printing \"@\" in place of odd numbers\r\n",
        "    print()"
      ],
      "execution_count": 7,
      "outputs": [
        {
          "output_type": "stream",
          "text": [
            "6 4 2 @ 8 @ 6 @ @ 6 \n",
            "0 8 @ @ 0 8 6 @ 2 4 \n",
            "@ 8 @ @ 4 @ 6 @ 2 8 \n",
            "2 8 6 6 8 6 @ @ @ @ \n",
            "@ 0 2 8 @ 6 0 8 @ @ \n",
            "@ @ 4 @ @ 6 @ @ @ 6 \n",
            "@ @ @ @ @ @ 6 8 8 2 \n",
            "@ @ @ @ @ 6 @ @ 8 6 \n",
            "@ @ 6 @ 2 @ 2 @ @ @ \n",
            "@ @ 0 @ 6 @ 6 @ @ @ \n"
          ],
          "name": "stdout"
        }
      ]
    },
    {
      "cell_type": "markdown",
      "metadata": {
        "id": "xSwMkXQIMDZh"
      },
      "source": [
        "##Calculate and Print the total of each row like the following (use \"*\" to separate the total from the numbers)"
      ]
    },
    {
      "cell_type": "code",
      "metadata": {
        "id": "_hdSdlkT3FwN",
        "colab": {
          "base_uri": "https://localhost:8080/"
        },
        "outputId": "498dd967-682d-403e-8447-b73e7e201345"
      },
      "source": [
        "for i in range(10):\r\n",
        "    add = 0 #Setting add to zero for every row\r\n",
        "    for j in range(10):\r\n",
        "        k = random.randint(0,9)\r\n",
        "        print(k, end = ' ')\r\n",
        "        add = add+k #Adding each row integers\r\n",
        "    print(\"* \" + str(add))"
      ],
      "execution_count": 8,
      "outputs": [
        {
          "output_type": "stream",
          "text": [
            "4 7 2 3 3 1 8 0 0 9 * 37\n",
            "0 9 1 9 6 3 9 7 4 2 * 50\n",
            "7 9 9 6 1 9 5 2 0 2 * 50\n",
            "3 4 9 8 0 5 6 5 7 5 * 52\n",
            "5 3 4 0 4 7 9 6 5 1 * 44\n",
            "7 3 9 0 0 9 8 1 7 1 * 45\n",
            "3 5 4 8 1 6 2 3 1 2 * 35\n",
            "3 6 2 2 9 2 9 8 2 5 * 48\n",
            "9 2 4 4 7 9 9 1 5 6 * 56\n",
            "2 9 9 9 9 6 1 0 9 8 * 62\n"
          ],
          "name": "stdout"
        }
      ]
    },
    {
      "cell_type": "markdown",
      "metadata": {
        "id": "tjInkvv8MHKj"
      },
      "source": [
        "## Surround the matrix with asterisks (*) "
      ]
    },
    {
      "cell_type": "code",
      "metadata": {
        "colab": {
          "base_uri": "https://localhost:8080/"
        },
        "id": "K5z1Hg2nGasj",
        "outputId": "4acb805b-4012-4389-92dd-a6e87a904862"
      },
      "source": [
        "print(\"***********************\")\r\n",
        "for i in range(10):\r\n",
        "    print(\"*\", end=' ') #generating the \"*\" pattern\r\n",
        "    for j in range(10):\r\n",
        "        k = random.randint(0,9)\r\n",
        "        print(k, end = ' ')\r\n",
        "    print(\"*\")\r\n",
        "print(\"***********************\")"
      ],
      "execution_count": 9,
      "outputs": [
        {
          "output_type": "stream",
          "text": [
            "***********************\n",
            "* 2 1 1 5 0 8 1 4 4 3 *\n",
            "* 2 7 6 3 0 4 3 2 6 4 *\n",
            "* 5 5 6 2 9 7 8 9 9 9 *\n",
            "* 7 2 1 1 6 4 2 6 5 0 *\n",
            "* 5 8 3 6 0 2 7 5 8 6 *\n",
            "* 2 1 2 2 3 7 6 1 6 4 *\n",
            "* 9 1 6 8 1 4 6 9 5 0 *\n",
            "* 9 1 8 6 2 3 6 4 3 3 *\n",
            "* 1 1 3 1 7 2 1 7 5 3 *\n",
            "* 6 7 2 5 3 3 2 6 5 9 *\n",
            "***********************\n"
          ],
          "name": "stdout"
        }
      ]
    },
    {
      "cell_type": "code",
      "metadata": {
        "id": "FvWC2IoDKmYG"
      },
      "source": [
        ""
      ],
      "execution_count": null,
      "outputs": []
    }
  ]
}